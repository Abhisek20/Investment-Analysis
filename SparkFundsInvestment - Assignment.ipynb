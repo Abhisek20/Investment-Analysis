{
 "cells": [
  {
   "cell_type": "markdown",
   "metadata": {},
   "source": [
    "  #### Import neccessary libraries"
   ]
  },
  {
   "cell_type": "code",
   "execution_count": 1,
   "metadata": {
    "ExecuteTime": {
     "end_time": "2021-04-28T09:29:09.124809Z",
     "start_time": "2021-04-28T09:29:04.199634Z"
    }
   },
   "outputs": [],
   "source": [
    "import pandas as pd\n",
    "import matplotlib.pyplot as plt\n",
    "import numpy as np"
   ]
  },
  {
   "cell_type": "markdown",
   "metadata": {},
   "source": [
    "#### Load the data from the files"
   ]
  },
  {
   "cell_type": "code",
   "execution_count": 2,
   "metadata": {
    "ExecuteTime": {
     "end_time": "2021-04-28T09:29:10.904812Z",
     "start_time": "2021-04-28T09:29:09.124809Z"
    }
   },
   "outputs": [],
   "source": [
    "companies = pd.read_csv('companies.csv', encoding='latin')\n",
    "rounds2 = pd.read_csv('rounds2.csv', encoding='latin')\n",
    "mapping = pd.read_csv('mapping.csv', encoding='latin')"
   ]
  },
  {
   "cell_type": "markdown",
   "metadata": {
    "ExecuteTime": {
     "end_time": "2021-04-06T08:50:14.734064Z",
     "start_time": "2021-04-06T08:50:14.724065Z"
    }
   },
   "source": [
    "#### View the datasets(top 5 rows only)"
   ]
  },
  {
   "cell_type": "code",
   "execution_count": 3,
   "metadata": {
    "ExecuteTime": {
     "end_time": "2021-04-28T09:29:10.974809Z",
     "start_time": "2021-04-28T09:29:10.904812Z"
    }
   },
   "outputs": [
    {
     "data": {
      "text/html": [
       "<div>\n",
       "<style scoped>\n",
       "    .dataframe tbody tr th:only-of-type {\n",
       "        vertical-align: middle;\n",
       "    }\n",
       "\n",
       "    .dataframe tbody tr th {\n",
       "        vertical-align: top;\n",
       "    }\n",
       "\n",
       "    .dataframe thead th {\n",
       "        text-align: right;\n",
       "    }\n",
       "</style>\n",
       "<table border=\"1\" class=\"dataframe\">\n",
       "  <thead>\n",
       "    <tr style=\"text-align: right;\">\n",
       "      <th></th>\n",
       "      <th>permalink</th>\n",
       "      <th>name</th>\n",
       "      <th>homepage_url</th>\n",
       "      <th>category_list</th>\n",
       "      <th>status</th>\n",
       "      <th>country_code</th>\n",
       "      <th>state_code</th>\n",
       "      <th>region</th>\n",
       "      <th>city</th>\n",
       "      <th>founded_at</th>\n",
       "    </tr>\n",
       "  </thead>\n",
       "  <tbody>\n",
       "    <tr>\n",
       "      <th>0</th>\n",
       "      <td>/Organization/-Fame</td>\n",
       "      <td>#fame</td>\n",
       "      <td>http://livfame.com</td>\n",
       "      <td>Media</td>\n",
       "      <td>operating</td>\n",
       "      <td>IND</td>\n",
       "      <td>16</td>\n",
       "      <td>Mumbai</td>\n",
       "      <td>Mumbai</td>\n",
       "      <td>NaN</td>\n",
       "    </tr>\n",
       "    <tr>\n",
       "      <th>1</th>\n",
       "      <td>/Organization/-Qounter</td>\n",
       "      <td>:Qounter</td>\n",
       "      <td>http://www.qounter.com</td>\n",
       "      <td>Application Platforms|Real Time|Social Network...</td>\n",
       "      <td>operating</td>\n",
       "      <td>USA</td>\n",
       "      <td>DE</td>\n",
       "      <td>DE - Other</td>\n",
       "      <td>Delaware City</td>\n",
       "      <td>04-09-2014</td>\n",
       "    </tr>\n",
       "    <tr>\n",
       "      <th>2</th>\n",
       "      <td>/Organization/-The-One-Of-Them-Inc-</td>\n",
       "      <td>(THE) ONE of THEM,Inc.</td>\n",
       "      <td>http://oneofthem.jp</td>\n",
       "      <td>Apps|Games|Mobile</td>\n",
       "      <td>operating</td>\n",
       "      <td>NaN</td>\n",
       "      <td>NaN</td>\n",
       "      <td>NaN</td>\n",
       "      <td>NaN</td>\n",
       "      <td>NaN</td>\n",
       "    </tr>\n",
       "    <tr>\n",
       "      <th>3</th>\n",
       "      <td>/Organization/0-6-Com</td>\n",
       "      <td>0-6.com</td>\n",
       "      <td>http://www.0-6.com</td>\n",
       "      <td>Curated Web</td>\n",
       "      <td>operating</td>\n",
       "      <td>CHN</td>\n",
       "      <td>22</td>\n",
       "      <td>Beijing</td>\n",
       "      <td>Beijing</td>\n",
       "      <td>01-01-2007</td>\n",
       "    </tr>\n",
       "    <tr>\n",
       "      <th>4</th>\n",
       "      <td>/Organization/004-Technologies</td>\n",
       "      <td>004 Technologies</td>\n",
       "      <td>http://004gmbh.de/en/004-interact</td>\n",
       "      <td>Software</td>\n",
       "      <td>operating</td>\n",
       "      <td>USA</td>\n",
       "      <td>IL</td>\n",
       "      <td>Springfield, Illinois</td>\n",
       "      <td>Champaign</td>\n",
       "      <td>01-01-2010</td>\n",
       "    </tr>\n",
       "  </tbody>\n",
       "</table>\n",
       "</div>"
      ],
      "text/plain": [
       "                             permalink                    name  \\\n",
       "0                  /Organization/-Fame                   #fame   \n",
       "1               /Organization/-Qounter                :Qounter   \n",
       "2  /Organization/-The-One-Of-Them-Inc-  (THE) ONE of THEM,Inc.   \n",
       "3                /Organization/0-6-Com                 0-6.com   \n",
       "4       /Organization/004-Technologies        004 Technologies   \n",
       "\n",
       "                        homepage_url  \\\n",
       "0                 http://livfame.com   \n",
       "1             http://www.qounter.com   \n",
       "2                http://oneofthem.jp   \n",
       "3                 http://www.0-6.com   \n",
       "4  http://004gmbh.de/en/004-interact   \n",
       "\n",
       "                                       category_list     status country_code  \\\n",
       "0                                              Media  operating          IND   \n",
       "1  Application Platforms|Real Time|Social Network...  operating          USA   \n",
       "2                                  Apps|Games|Mobile  operating          NaN   \n",
       "3                                        Curated Web  operating          CHN   \n",
       "4                                           Software  operating          USA   \n",
       "\n",
       "  state_code                 region           city  founded_at  \n",
       "0         16                 Mumbai         Mumbai         NaN  \n",
       "1         DE             DE - Other  Delaware City  04-09-2014  \n",
       "2        NaN                    NaN            NaN         NaN  \n",
       "3         22                Beijing        Beijing  01-01-2007  \n",
       "4         IL  Springfield, Illinois      Champaign  01-01-2010  "
      ]
     },
     "execution_count": 3,
     "metadata": {},
     "output_type": "execute_result"
    }
   ],
   "source": [
    "companies.head()"
   ]
  },
  {
   "cell_type": "code",
   "execution_count": 4,
   "metadata": {
    "ExecuteTime": {
     "end_time": "2021-04-28T09:29:11.024811Z",
     "start_time": "2021-04-28T09:29:10.974809Z"
    },
    "scrolled": true
   },
   "outputs": [
    {
     "data": {
      "text/html": [
       "<div>\n",
       "<style scoped>\n",
       "    .dataframe tbody tr th:only-of-type {\n",
       "        vertical-align: middle;\n",
       "    }\n",
       "\n",
       "    .dataframe tbody tr th {\n",
       "        vertical-align: top;\n",
       "    }\n",
       "\n",
       "    .dataframe thead th {\n",
       "        text-align: right;\n",
       "    }\n",
       "</style>\n",
       "<table border=\"1\" class=\"dataframe\">\n",
       "  <thead>\n",
       "    <tr style=\"text-align: right;\">\n",
       "      <th></th>\n",
       "      <th>company_permalink</th>\n",
       "      <th>funding_round_permalink</th>\n",
       "      <th>funding_round_type</th>\n",
       "      <th>funding_round_code</th>\n",
       "      <th>funded_at</th>\n",
       "      <th>raised_amount_usd</th>\n",
       "    </tr>\n",
       "  </thead>\n",
       "  <tbody>\n",
       "    <tr>\n",
       "      <th>0</th>\n",
       "      <td>/organization/-fame</td>\n",
       "      <td>/funding-round/9a01d05418af9f794eebff7ace91f638</td>\n",
       "      <td>venture</td>\n",
       "      <td>B</td>\n",
       "      <td>05-01-2015</td>\n",
       "      <td>10000000.0</td>\n",
       "    </tr>\n",
       "    <tr>\n",
       "      <th>1</th>\n",
       "      <td>/ORGANIZATION/-QOUNTER</td>\n",
       "      <td>/funding-round/22dacff496eb7acb2b901dec1dfe5633</td>\n",
       "      <td>venture</td>\n",
       "      <td>A</td>\n",
       "      <td>14-10-2014</td>\n",
       "      <td>NaN</td>\n",
       "    </tr>\n",
       "    <tr>\n",
       "      <th>2</th>\n",
       "      <td>/organization/-qounter</td>\n",
       "      <td>/funding-round/b44fbb94153f6cdef13083530bb48030</td>\n",
       "      <td>seed</td>\n",
       "      <td>NaN</td>\n",
       "      <td>01-03-2014</td>\n",
       "      <td>700000.0</td>\n",
       "    </tr>\n",
       "    <tr>\n",
       "      <th>3</th>\n",
       "      <td>/ORGANIZATION/-THE-ONE-OF-THEM-INC-</td>\n",
       "      <td>/funding-round/650b8f704416801069bb178a1418776b</td>\n",
       "      <td>venture</td>\n",
       "      <td>B</td>\n",
       "      <td>30-01-2014</td>\n",
       "      <td>3406878.0</td>\n",
       "    </tr>\n",
       "    <tr>\n",
       "      <th>4</th>\n",
       "      <td>/organization/0-6-com</td>\n",
       "      <td>/funding-round/5727accaeaa57461bd22a9bdd945382d</td>\n",
       "      <td>venture</td>\n",
       "      <td>A</td>\n",
       "      <td>19-03-2008</td>\n",
       "      <td>2000000.0</td>\n",
       "    </tr>\n",
       "  </tbody>\n",
       "</table>\n",
       "</div>"
      ],
      "text/plain": [
       "                     company_permalink  \\\n",
       "0                  /organization/-fame   \n",
       "1               /ORGANIZATION/-QOUNTER   \n",
       "2               /organization/-qounter   \n",
       "3  /ORGANIZATION/-THE-ONE-OF-THEM-INC-   \n",
       "4                /organization/0-6-com   \n",
       "\n",
       "                           funding_round_permalink funding_round_type  \\\n",
       "0  /funding-round/9a01d05418af9f794eebff7ace91f638            venture   \n",
       "1  /funding-round/22dacff496eb7acb2b901dec1dfe5633            venture   \n",
       "2  /funding-round/b44fbb94153f6cdef13083530bb48030               seed   \n",
       "3  /funding-round/650b8f704416801069bb178a1418776b            venture   \n",
       "4  /funding-round/5727accaeaa57461bd22a9bdd945382d            venture   \n",
       "\n",
       "  funding_round_code   funded_at  raised_amount_usd  \n",
       "0                  B  05-01-2015         10000000.0  \n",
       "1                  A  14-10-2014                NaN  \n",
       "2                NaN  01-03-2014           700000.0  \n",
       "3                  B  30-01-2014          3406878.0  \n",
       "4                  A  19-03-2008          2000000.0  "
      ]
     },
     "execution_count": 4,
     "metadata": {},
     "output_type": "execute_result"
    }
   ],
   "source": [
    "rounds2.head()"
   ]
  },
  {
   "cell_type": "code",
   "execution_count": 5,
   "metadata": {
    "ExecuteTime": {
     "end_time": "2021-04-28T09:29:11.064848Z",
     "start_time": "2021-04-28T09:29:11.024811Z"
    }
   },
   "outputs": [
    {
     "data": {
      "text/html": [
       "<div>\n",
       "<style scoped>\n",
       "    .dataframe tbody tr th:only-of-type {\n",
       "        vertical-align: middle;\n",
       "    }\n",
       "\n",
       "    .dataframe tbody tr th {\n",
       "        vertical-align: top;\n",
       "    }\n",
       "\n",
       "    .dataframe thead th {\n",
       "        text-align: right;\n",
       "    }\n",
       "</style>\n",
       "<table border=\"1\" class=\"dataframe\">\n",
       "  <thead>\n",
       "    <tr style=\"text-align: right;\">\n",
       "      <th></th>\n",
       "      <th>category_list</th>\n",
       "      <th>Automotive &amp; Sports</th>\n",
       "      <th>Blanks</th>\n",
       "      <th>Cleantech / Semiconductors</th>\n",
       "      <th>Entertainment</th>\n",
       "      <th>Health</th>\n",
       "      <th>Manufacturing</th>\n",
       "      <th>News, Search and Messaging</th>\n",
       "      <th>Others</th>\n",
       "      <th>Social, Finance, Analytics, Advertising</th>\n",
       "    </tr>\n",
       "  </thead>\n",
       "  <tbody>\n",
       "    <tr>\n",
       "      <th>0</th>\n",
       "      <td>NaN</td>\n",
       "      <td>0</td>\n",
       "      <td>1</td>\n",
       "      <td>0</td>\n",
       "      <td>0</td>\n",
       "      <td>0</td>\n",
       "      <td>0</td>\n",
       "      <td>0</td>\n",
       "      <td>0</td>\n",
       "      <td>0</td>\n",
       "    </tr>\n",
       "    <tr>\n",
       "      <th>1</th>\n",
       "      <td>3D</td>\n",
       "      <td>0</td>\n",
       "      <td>0</td>\n",
       "      <td>0</td>\n",
       "      <td>0</td>\n",
       "      <td>0</td>\n",
       "      <td>1</td>\n",
       "      <td>0</td>\n",
       "      <td>0</td>\n",
       "      <td>0</td>\n",
       "    </tr>\n",
       "    <tr>\n",
       "      <th>2</th>\n",
       "      <td>3D Printing</td>\n",
       "      <td>0</td>\n",
       "      <td>0</td>\n",
       "      <td>0</td>\n",
       "      <td>0</td>\n",
       "      <td>0</td>\n",
       "      <td>1</td>\n",
       "      <td>0</td>\n",
       "      <td>0</td>\n",
       "      <td>0</td>\n",
       "    </tr>\n",
       "    <tr>\n",
       "      <th>3</th>\n",
       "      <td>3D Technology</td>\n",
       "      <td>0</td>\n",
       "      <td>0</td>\n",
       "      <td>0</td>\n",
       "      <td>0</td>\n",
       "      <td>0</td>\n",
       "      <td>1</td>\n",
       "      <td>0</td>\n",
       "      <td>0</td>\n",
       "      <td>0</td>\n",
       "    </tr>\n",
       "    <tr>\n",
       "      <th>4</th>\n",
       "      <td>Accounting</td>\n",
       "      <td>0</td>\n",
       "      <td>0</td>\n",
       "      <td>0</td>\n",
       "      <td>0</td>\n",
       "      <td>0</td>\n",
       "      <td>0</td>\n",
       "      <td>0</td>\n",
       "      <td>0</td>\n",
       "      <td>1</td>\n",
       "    </tr>\n",
       "  </tbody>\n",
       "</table>\n",
       "</div>"
      ],
      "text/plain": [
       "   category_list  Automotive & Sports  Blanks  Cleantech / Semiconductors  \\\n",
       "0            NaN                    0       1                           0   \n",
       "1             3D                    0       0                           0   \n",
       "2    3D Printing                    0       0                           0   \n",
       "3  3D Technology                    0       0                           0   \n",
       "4     Accounting                    0       0                           0   \n",
       "\n",
       "   Entertainment  Health  Manufacturing  News, Search and Messaging  Others  \\\n",
       "0              0       0              0                           0       0   \n",
       "1              0       0              1                           0       0   \n",
       "2              0       0              1                           0       0   \n",
       "3              0       0              1                           0       0   \n",
       "4              0       0              0                           0       0   \n",
       "\n",
       "   Social, Finance, Analytics, Advertising  \n",
       "0                                        0  \n",
       "1                                        0  \n",
       "2                                        0  \n",
       "3                                        0  \n",
       "4                                        1  "
      ]
     },
     "execution_count": 5,
     "metadata": {},
     "output_type": "execute_result"
    }
   ],
   "source": [
    "mapping.head()"
   ]
  },
  {
   "cell_type": "markdown",
   "metadata": {
    "ExecuteTime": {
     "end_time": "2021-04-06T08:51:35.566868Z",
     "start_time": "2021-04-06T08:51:35.556903Z"
    }
   },
   "source": [
    "#### Extract inside information about the datasets"
   ]
  },
  {
   "cell_type": "code",
   "execution_count": 6,
   "metadata": {
    "ExecuteTime": {
     "end_time": "2021-04-28T09:29:11.204806Z",
     "start_time": "2021-04-28T09:29:11.064848Z"
    }
   },
   "outputs": [
    {
     "name": "stdout",
     "output_type": "stream",
     "text": [
      "<class 'pandas.core.frame.DataFrame'>\n",
      "RangeIndex: 66368 entries, 0 to 66367\n",
      "Data columns (total 10 columns):\n",
      " #   Column         Non-Null Count  Dtype \n",
      "---  ------         --------------  ----- \n",
      " 0   permalink      66368 non-null  object\n",
      " 1   name           66367 non-null  object\n",
      " 2   homepage_url   61310 non-null  object\n",
      " 3   category_list  63220 non-null  object\n",
      " 4   status         66368 non-null  object\n",
      " 5   country_code   59410 non-null  object\n",
      " 6   state_code     57821 non-null  object\n",
      " 7   region         58338 non-null  object\n",
      " 8   city           58340 non-null  object\n",
      " 9   founded_at     51147 non-null  object\n",
      "dtypes: object(10)\n",
      "memory usage: 5.1+ MB\n"
     ]
    }
   ],
   "source": [
    "companies.info()"
   ]
  },
  {
   "cell_type": "code",
   "execution_count": 7,
   "metadata": {
    "ExecuteTime": {
     "end_time": "2021-04-28T09:29:11.294809Z",
     "start_time": "2021-04-28T09:29:11.204806Z"
    },
    "scrolled": false
   },
   "outputs": [
    {
     "name": "stdout",
     "output_type": "stream",
     "text": [
      "<class 'pandas.core.frame.DataFrame'>\n",
      "RangeIndex: 114949 entries, 0 to 114948\n",
      "Data columns (total 6 columns):\n",
      " #   Column                   Non-Null Count   Dtype  \n",
      "---  ------                   --------------   -----  \n",
      " 0   company_permalink        114949 non-null  object \n",
      " 1   funding_round_permalink  114949 non-null  object \n",
      " 2   funding_round_type       114949 non-null  object \n",
      " 3   funding_round_code       31140 non-null   object \n",
      " 4   funded_at                114949 non-null  object \n",
      " 5   raised_amount_usd        94959 non-null   float64\n",
      "dtypes: float64(1), object(5)\n",
      "memory usage: 5.3+ MB\n"
     ]
    }
   ],
   "source": [
    "rounds2.info()"
   ]
  },
  {
   "cell_type": "markdown",
   "metadata": {},
   "source": [
    "#### Changing the elements to lower case"
   ]
  },
  {
   "cell_type": "code",
   "execution_count": 8,
   "metadata": {
    "ExecuteTime": {
     "end_time": "2021-04-28T09:29:11.444813Z",
     "start_time": "2021-04-28T09:29:11.294809Z"
    }
   },
   "outputs": [],
   "source": [
    "companies.permalink = companies.permalink.apply(lambda x : x.lower())\n",
    "rounds2.company_permalink = rounds2.company_permalink.apply(lambda x : x.lower())"
   ]
  },
  {
   "cell_type": "code",
   "execution_count": 9,
   "metadata": {
    "ExecuteTime": {
     "end_time": "2021-04-28T09:29:11.464807Z",
     "start_time": "2021-04-28T09:29:11.444813Z"
    },
    "scrolled": true
   },
   "outputs": [
    {
     "name": "stdout",
     "output_type": "stream",
     "text": [
      "0                                      /organization/-fame\n",
      "1                                   /organization/-qounter\n",
      "2                      /organization/-the-one-of-them-inc-\n",
      "3                                    /organization/0-6-com\n",
      "4                           /organization/004-technologies\n",
      "                               ...                        \n",
      "66363    /organization/zznode-science-and-technology-co...\n",
      "66364                            /organization/zzzzapp-com\n",
      "66365                                 /organization/ãeron\n",
      "66366                               /organization/ãasys-2\n",
      "66367    /organization/ä°novatiff-reklam-ve-tanä±tä±m-h...\n",
      "Name: permalink, Length: 66368, dtype: object\n",
      "\n",
      "\n",
      " 0                                       /organization/-fame\n",
      "1                                    /organization/-qounter\n",
      "2                                    /organization/-qounter\n",
      "3                       /organization/-the-one-of-them-inc-\n",
      "4                                     /organization/0-6-com\n",
      "                                ...                        \n",
      "114944                            /organization/zzzzapp-com\n",
      "114945                            /organization/zzzzapp-com\n",
      "114946                                 /organization/ãeron\n",
      "114947                               /organization/ãasys-2\n",
      "114948    /organization/ä°novatiff-reklam-ve-tanä±tä±m-h...\n",
      "Name: company_permalink, Length: 114949, dtype: object\n"
     ]
    }
   ],
   "source": [
    "print(companies.permalink)\n",
    "print('\\n\\n' , rounds2.company_permalink)"
   ]
  },
  {
   "cell_type": "markdown",
   "metadata": {
    "ExecuteTime": {
     "end_time": "2021-04-06T11:15:13.168050Z",
     "start_time": "2021-04-06T11:15:13.158015Z"
    }
   },
   "source": [
    "#### Get count of the unique entries in the companies dataset"
   ]
  },
  {
   "cell_type": "code",
   "execution_count": 10,
   "metadata": {
    "ExecuteTime": {
     "end_time": "2021-04-28T09:29:11.564845Z",
     "start_time": "2021-04-28T09:29:11.464807Z"
    },
    "scrolled": true
   },
   "outputs": [
    {
     "data": {
      "text/plain": [
       "66368"
      ]
     },
     "execution_count": 10,
     "metadata": {},
     "output_type": "execute_result"
    }
   ],
   "source": [
    "companies.permalink.nunique()"
   ]
  },
  {
   "cell_type": "markdown",
   "metadata": {},
   "source": [
    "#### Get count of the unique entries in the rounds2 dataset"
   ]
  },
  {
   "cell_type": "code",
   "execution_count": 11,
   "metadata": {
    "ExecuteTime": {
     "end_time": "2021-04-28T09:29:11.644846Z",
     "start_time": "2021-04-28T09:29:11.564845Z"
    },
    "scrolled": true
   },
   "outputs": [
    {
     "data": {
      "text/plain": [
       "66370"
      ]
     },
     "execution_count": 11,
     "metadata": {},
     "output_type": "execute_result"
    }
   ],
   "source": [
    "rounds2.company_permalink.nunique()"
   ]
  },
  {
   "cell_type": "code",
   "execution_count": 12,
   "metadata": {
    "ExecuteTime": {
     "end_time": "2021-04-28T09:29:11.804847Z",
     "start_time": "2021-04-28T09:29:11.644846Z"
    },
    "scrolled": true
   },
   "outputs": [
    {
     "data": {
      "text/plain": [
       "/organization/solarflare            19\n",
       "/organization/semprius              18\n",
       "/organization/quellan               18\n",
       "/organization/exagen-diagnostics    18\n",
       "/organization/vocalocity            17\n",
       "                                    ..\n",
       "/organization/ds-industries          1\n",
       "/organization/optireno               1\n",
       "/organization/jurni-inc-             1\n",
       "/organization/fatwire                1\n",
       "/organization/bloom-wild             1\n",
       "Name: company_permalink, Length: 66370, dtype: int64"
      ]
     },
     "execution_count": 12,
     "metadata": {},
     "output_type": "execute_result"
    }
   ],
   "source": [
    "rounds2.company_permalink.value_counts()"
   ]
  },
  {
   "cell_type": "markdown",
   "metadata": {},
   "source": [
    "Thus there are companies who have multiple rounds of investment"
   ]
  },
  {
   "cell_type": "markdown",
   "metadata": {},
   "source": [
    "#### Change the column name of companies and rounds2 dataset to a common key name"
   ]
  },
  {
   "cell_type": "code",
   "execution_count": 13,
   "metadata": {
    "ExecuteTime": {
     "end_time": "2021-04-28T09:29:11.824807Z",
     "start_time": "2021-04-28T09:29:11.804847Z"
    }
   },
   "outputs": [],
   "source": [
    "rounds2.rename({'company_permalink':'permalink'},  axis=1, inplace=True)"
   ]
  },
  {
   "cell_type": "code",
   "execution_count": 14,
   "metadata": {
    "ExecuteTime": {
     "end_time": "2021-04-28T09:29:11.894817Z",
     "start_time": "2021-04-28T09:29:11.824807Z"
    },
    "scrolled": true
   },
   "outputs": [
    {
     "data": {
      "text/html": [
       "<div>\n",
       "<style scoped>\n",
       "    .dataframe tbody tr th:only-of-type {\n",
       "        vertical-align: middle;\n",
       "    }\n",
       "\n",
       "    .dataframe tbody tr th {\n",
       "        vertical-align: top;\n",
       "    }\n",
       "\n",
       "    .dataframe thead th {\n",
       "        text-align: right;\n",
       "    }\n",
       "</style>\n",
       "<table border=\"1\" class=\"dataframe\">\n",
       "  <thead>\n",
       "    <tr style=\"text-align: right;\">\n",
       "      <th></th>\n",
       "      <th>permalink</th>\n",
       "      <th>funding_round_permalink</th>\n",
       "      <th>funding_round_type</th>\n",
       "      <th>funding_round_code</th>\n",
       "      <th>funded_at</th>\n",
       "      <th>raised_amount_usd</th>\n",
       "    </tr>\n",
       "  </thead>\n",
       "  <tbody>\n",
       "    <tr>\n",
       "      <th>0</th>\n",
       "      <td>/organization/-fame</td>\n",
       "      <td>/funding-round/9a01d05418af9f794eebff7ace91f638</td>\n",
       "      <td>venture</td>\n",
       "      <td>B</td>\n",
       "      <td>05-01-2015</td>\n",
       "      <td>10000000.0</td>\n",
       "    </tr>\n",
       "    <tr>\n",
       "      <th>1</th>\n",
       "      <td>/organization/-qounter</td>\n",
       "      <td>/funding-round/22dacff496eb7acb2b901dec1dfe5633</td>\n",
       "      <td>venture</td>\n",
       "      <td>A</td>\n",
       "      <td>14-10-2014</td>\n",
       "      <td>NaN</td>\n",
       "    </tr>\n",
       "    <tr>\n",
       "      <th>2</th>\n",
       "      <td>/organization/-qounter</td>\n",
       "      <td>/funding-round/b44fbb94153f6cdef13083530bb48030</td>\n",
       "      <td>seed</td>\n",
       "      <td>NaN</td>\n",
       "      <td>01-03-2014</td>\n",
       "      <td>700000.0</td>\n",
       "    </tr>\n",
       "    <tr>\n",
       "      <th>3</th>\n",
       "      <td>/organization/-the-one-of-them-inc-</td>\n",
       "      <td>/funding-round/650b8f704416801069bb178a1418776b</td>\n",
       "      <td>venture</td>\n",
       "      <td>B</td>\n",
       "      <td>30-01-2014</td>\n",
       "      <td>3406878.0</td>\n",
       "    </tr>\n",
       "    <tr>\n",
       "      <th>4</th>\n",
       "      <td>/organization/0-6-com</td>\n",
       "      <td>/funding-round/5727accaeaa57461bd22a9bdd945382d</td>\n",
       "      <td>venture</td>\n",
       "      <td>A</td>\n",
       "      <td>19-03-2008</td>\n",
       "      <td>2000000.0</td>\n",
       "    </tr>\n",
       "  </tbody>\n",
       "</table>\n",
       "</div>"
      ],
      "text/plain": [
       "                             permalink  \\\n",
       "0                  /organization/-fame   \n",
       "1               /organization/-qounter   \n",
       "2               /organization/-qounter   \n",
       "3  /organization/-the-one-of-them-inc-   \n",
       "4                /organization/0-6-com   \n",
       "\n",
       "                           funding_round_permalink funding_round_type  \\\n",
       "0  /funding-round/9a01d05418af9f794eebff7ace91f638            venture   \n",
       "1  /funding-round/22dacff496eb7acb2b901dec1dfe5633            venture   \n",
       "2  /funding-round/b44fbb94153f6cdef13083530bb48030               seed   \n",
       "3  /funding-round/650b8f704416801069bb178a1418776b            venture   \n",
       "4  /funding-round/5727accaeaa57461bd22a9bdd945382d            venture   \n",
       "\n",
       "  funding_round_code   funded_at  raised_amount_usd  \n",
       "0                  B  05-01-2015         10000000.0  \n",
       "1                  A  14-10-2014                NaN  \n",
       "2                NaN  01-03-2014           700000.0  \n",
       "3                  B  30-01-2014          3406878.0  \n",
       "4                  A  19-03-2008          2000000.0  "
      ]
     },
     "execution_count": 14,
     "metadata": {},
     "output_type": "execute_result"
    }
   ],
   "source": [
    "rounds2.head()"
   ]
  },
  {
   "cell_type": "markdown",
   "metadata": {},
   "source": [
    "#### Merge(Inner join) the two datasets using the common key name"
   ]
  },
  {
   "cell_type": "code",
   "execution_count": 15,
   "metadata": {
    "ExecuteTime": {
     "end_time": "2021-04-28T09:29:12.134810Z",
     "start_time": "2021-04-28T09:29:11.894817Z"
    }
   },
   "outputs": [],
   "source": [
    "master_frame = pd.merge(companies, rounds2, how = 'inner' , on = 'permalink')"
   ]
  },
  {
   "cell_type": "code",
   "execution_count": 16,
   "metadata": {
    "ExecuteTime": {
     "end_time": "2021-04-28T09:29:12.194844Z",
     "start_time": "2021-04-28T09:29:12.134810Z"
    },
    "scrolled": true
   },
   "outputs": [
    {
     "data": {
      "text/html": [
       "<div>\n",
       "<style scoped>\n",
       "    .dataframe tbody tr th:only-of-type {\n",
       "        vertical-align: middle;\n",
       "    }\n",
       "\n",
       "    .dataframe tbody tr th {\n",
       "        vertical-align: top;\n",
       "    }\n",
       "\n",
       "    .dataframe thead th {\n",
       "        text-align: right;\n",
       "    }\n",
       "</style>\n",
       "<table border=\"1\" class=\"dataframe\">\n",
       "  <thead>\n",
       "    <tr style=\"text-align: right;\">\n",
       "      <th></th>\n",
       "      <th>permalink</th>\n",
       "      <th>name</th>\n",
       "      <th>homepage_url</th>\n",
       "      <th>category_list</th>\n",
       "      <th>status</th>\n",
       "      <th>country_code</th>\n",
       "      <th>state_code</th>\n",
       "      <th>region</th>\n",
       "      <th>city</th>\n",
       "      <th>founded_at</th>\n",
       "      <th>funding_round_permalink</th>\n",
       "      <th>funding_round_type</th>\n",
       "      <th>funding_round_code</th>\n",
       "      <th>funded_at</th>\n",
       "      <th>raised_amount_usd</th>\n",
       "    </tr>\n",
       "  </thead>\n",
       "  <tbody>\n",
       "    <tr>\n",
       "      <th>0</th>\n",
       "      <td>/organization/-fame</td>\n",
       "      <td>#fame</td>\n",
       "      <td>http://livfame.com</td>\n",
       "      <td>Media</td>\n",
       "      <td>operating</td>\n",
       "      <td>IND</td>\n",
       "      <td>16</td>\n",
       "      <td>Mumbai</td>\n",
       "      <td>Mumbai</td>\n",
       "      <td>NaN</td>\n",
       "      <td>/funding-round/9a01d05418af9f794eebff7ace91f638</td>\n",
       "      <td>venture</td>\n",
       "      <td>B</td>\n",
       "      <td>05-01-2015</td>\n",
       "      <td>10000000.0</td>\n",
       "    </tr>\n",
       "    <tr>\n",
       "      <th>1</th>\n",
       "      <td>/organization/-qounter</td>\n",
       "      <td>:Qounter</td>\n",
       "      <td>http://www.qounter.com</td>\n",
       "      <td>Application Platforms|Real Time|Social Network...</td>\n",
       "      <td>operating</td>\n",
       "      <td>USA</td>\n",
       "      <td>DE</td>\n",
       "      <td>DE - Other</td>\n",
       "      <td>Delaware City</td>\n",
       "      <td>04-09-2014</td>\n",
       "      <td>/funding-round/22dacff496eb7acb2b901dec1dfe5633</td>\n",
       "      <td>venture</td>\n",
       "      <td>A</td>\n",
       "      <td>14-10-2014</td>\n",
       "      <td>NaN</td>\n",
       "    </tr>\n",
       "    <tr>\n",
       "      <th>2</th>\n",
       "      <td>/organization/-qounter</td>\n",
       "      <td>:Qounter</td>\n",
       "      <td>http://www.qounter.com</td>\n",
       "      <td>Application Platforms|Real Time|Social Network...</td>\n",
       "      <td>operating</td>\n",
       "      <td>USA</td>\n",
       "      <td>DE</td>\n",
       "      <td>DE - Other</td>\n",
       "      <td>Delaware City</td>\n",
       "      <td>04-09-2014</td>\n",
       "      <td>/funding-round/b44fbb94153f6cdef13083530bb48030</td>\n",
       "      <td>seed</td>\n",
       "      <td>NaN</td>\n",
       "      <td>01-03-2014</td>\n",
       "      <td>700000.0</td>\n",
       "    </tr>\n",
       "    <tr>\n",
       "      <th>3</th>\n",
       "      <td>/organization/-the-one-of-them-inc-</td>\n",
       "      <td>(THE) ONE of THEM,Inc.</td>\n",
       "      <td>http://oneofthem.jp</td>\n",
       "      <td>Apps|Games|Mobile</td>\n",
       "      <td>operating</td>\n",
       "      <td>NaN</td>\n",
       "      <td>NaN</td>\n",
       "      <td>NaN</td>\n",
       "      <td>NaN</td>\n",
       "      <td>NaN</td>\n",
       "      <td>/funding-round/650b8f704416801069bb178a1418776b</td>\n",
       "      <td>venture</td>\n",
       "      <td>B</td>\n",
       "      <td>30-01-2014</td>\n",
       "      <td>3406878.0</td>\n",
       "    </tr>\n",
       "    <tr>\n",
       "      <th>4</th>\n",
       "      <td>/organization/0-6-com</td>\n",
       "      <td>0-6.com</td>\n",
       "      <td>http://www.0-6.com</td>\n",
       "      <td>Curated Web</td>\n",
       "      <td>operating</td>\n",
       "      <td>CHN</td>\n",
       "      <td>22</td>\n",
       "      <td>Beijing</td>\n",
       "      <td>Beijing</td>\n",
       "      <td>01-01-2007</td>\n",
       "      <td>/funding-round/5727accaeaa57461bd22a9bdd945382d</td>\n",
       "      <td>venture</td>\n",
       "      <td>A</td>\n",
       "      <td>19-03-2008</td>\n",
       "      <td>2000000.0</td>\n",
       "    </tr>\n",
       "  </tbody>\n",
       "</table>\n",
       "</div>"
      ],
      "text/plain": [
       "                             permalink                    name  \\\n",
       "0                  /organization/-fame                   #fame   \n",
       "1               /organization/-qounter                :Qounter   \n",
       "2               /organization/-qounter                :Qounter   \n",
       "3  /organization/-the-one-of-them-inc-  (THE) ONE of THEM,Inc.   \n",
       "4                /organization/0-6-com                 0-6.com   \n",
       "\n",
       "             homepage_url                                      category_list  \\\n",
       "0      http://livfame.com                                              Media   \n",
       "1  http://www.qounter.com  Application Platforms|Real Time|Social Network...   \n",
       "2  http://www.qounter.com  Application Platforms|Real Time|Social Network...   \n",
       "3     http://oneofthem.jp                                  Apps|Games|Mobile   \n",
       "4      http://www.0-6.com                                        Curated Web   \n",
       "\n",
       "      status country_code state_code      region           city  founded_at  \\\n",
       "0  operating          IND         16      Mumbai         Mumbai         NaN   \n",
       "1  operating          USA         DE  DE - Other  Delaware City  04-09-2014   \n",
       "2  operating          USA         DE  DE - Other  Delaware City  04-09-2014   \n",
       "3  operating          NaN        NaN         NaN            NaN         NaN   \n",
       "4  operating          CHN         22     Beijing        Beijing  01-01-2007   \n",
       "\n",
       "                           funding_round_permalink funding_round_type  \\\n",
       "0  /funding-round/9a01d05418af9f794eebff7ace91f638            venture   \n",
       "1  /funding-round/22dacff496eb7acb2b901dec1dfe5633            venture   \n",
       "2  /funding-round/b44fbb94153f6cdef13083530bb48030               seed   \n",
       "3  /funding-round/650b8f704416801069bb178a1418776b            venture   \n",
       "4  /funding-round/5727accaeaa57461bd22a9bdd945382d            venture   \n",
       "\n",
       "  funding_round_code   funded_at  raised_amount_usd  \n",
       "0                  B  05-01-2015         10000000.0  \n",
       "1                  A  14-10-2014                NaN  \n",
       "2                NaN  01-03-2014           700000.0  \n",
       "3                  B  30-01-2014          3406878.0  \n",
       "4                  A  19-03-2008          2000000.0  "
      ]
     },
     "execution_count": 16,
     "metadata": {},
     "output_type": "execute_result"
    }
   ],
   "source": [
    "master_frame.head()"
   ]
  },
  {
   "cell_type": "code",
   "execution_count": 17,
   "metadata": {
    "ExecuteTime": {
     "end_time": "2021-04-28T09:29:12.214807Z",
     "start_time": "2021-04-28T09:29:12.194844Z"
    }
   },
   "outputs": [
    {
     "data": {
      "text/plain": [
       "(114942, 15)"
      ]
     },
     "execution_count": 17,
     "metadata": {},
     "output_type": "execute_result"
    }
   ],
   "source": [
    "master_frame.shape"
   ]
  },
  {
   "cell_type": "markdown",
   "metadata": {},
   "source": [
    "## Dataset cleaning"
   ]
  },
  {
   "cell_type": "markdown",
   "metadata": {},
   "source": [
    "#### Check the NaN/null values in the merged dataset"
   ]
  },
  {
   "cell_type": "code",
   "execution_count": 18,
   "metadata": {
    "ExecuteTime": {
     "end_time": "2021-04-28T09:29:12.374806Z",
     "start_time": "2021-04-28T09:29:12.214807Z"
    },
    "scrolled": true
   },
   "outputs": [
    {
     "data": {
      "text/plain": [
       "permalink                      0\n",
       "name                           1\n",
       "homepage_url                6132\n",
       "category_list               3407\n",
       "status                         0\n",
       "country_code                8671\n",
       "state_code                 10939\n",
       "region                     10160\n",
       "city                       10157\n",
       "founded_at                 20520\n",
       "funding_round_permalink        0\n",
       "funding_round_type             0\n",
       "funding_round_code         83803\n",
       "funded_at                      0\n",
       "raised_amount_usd          19984\n",
       "dtype: int64"
      ]
     },
     "execution_count": 18,
     "metadata": {},
     "output_type": "execute_result"
    }
   ],
   "source": [
    "master_frame.isnull().sum()"
   ]
  },
  {
   "cell_type": "markdown",
   "metadata": {},
   "source": [
    "#### Deleting the row who doesn't have a company name"
   ]
  },
  {
   "cell_type": "code",
   "execution_count": 19,
   "metadata": {
    "ExecuteTime": {
     "end_time": "2021-04-28T09:29:12.484845Z",
     "start_time": "2021-04-28T09:29:12.374806Z"
    }
   },
   "outputs": [
    {
     "data": {
      "text/html": [
       "<div>\n",
       "<style scoped>\n",
       "    .dataframe tbody tr th:only-of-type {\n",
       "        vertical-align: middle;\n",
       "    }\n",
       "\n",
       "    .dataframe tbody tr th {\n",
       "        vertical-align: top;\n",
       "    }\n",
       "\n",
       "    .dataframe thead th {\n",
       "        text-align: right;\n",
       "    }\n",
       "</style>\n",
       "<table border=\"1\" class=\"dataframe\">\n",
       "  <thead>\n",
       "    <tr style=\"text-align: right;\">\n",
       "      <th></th>\n",
       "      <th>permalink</th>\n",
       "      <th>name</th>\n",
       "      <th>homepage_url</th>\n",
       "      <th>category_list</th>\n",
       "      <th>status</th>\n",
       "      <th>country_code</th>\n",
       "      <th>state_code</th>\n",
       "      <th>region</th>\n",
       "      <th>city</th>\n",
       "      <th>founded_at</th>\n",
       "      <th>funding_round_permalink</th>\n",
       "      <th>funding_round_type</th>\n",
       "      <th>funding_round_code</th>\n",
       "      <th>funded_at</th>\n",
       "      <th>raised_amount_usd</th>\n",
       "    </tr>\n",
       "  </thead>\n",
       "  <tbody>\n",
       "    <tr>\n",
       "      <th>98688</th>\n",
       "      <td>/organization/tell-it-in</td>\n",
       "      <td>NaN</td>\n",
       "      <td>http://tellitin10.com</td>\n",
       "      <td>Startups</td>\n",
       "      <td>closed</td>\n",
       "      <td>USA</td>\n",
       "      <td>OR</td>\n",
       "      <td>Portland, Oregon</td>\n",
       "      <td>Portland</td>\n",
       "      <td>01-10-2011</td>\n",
       "      <td>/funding-round/9c987e616755a78c51a4aa67c27a2a93</td>\n",
       "      <td>seed</td>\n",
       "      <td>NaN</td>\n",
       "      <td>01-03-2012</td>\n",
       "      <td>25000.0</td>\n",
       "    </tr>\n",
       "  </tbody>\n",
       "</table>\n",
       "</div>"
      ],
      "text/plain": [
       "                      permalink name           homepage_url category_list  \\\n",
       "98688  /organization/tell-it-in  NaN  http://tellitin10.com      Startups   \n",
       "\n",
       "       status country_code state_code            region      city  founded_at  \\\n",
       "98688  closed          USA         OR  Portland, Oregon  Portland  01-10-2011   \n",
       "\n",
       "                               funding_round_permalink funding_round_type  \\\n",
       "98688  /funding-round/9c987e616755a78c51a4aa67c27a2a93               seed   \n",
       "\n",
       "      funding_round_code   funded_at  raised_amount_usd  \n",
       "98688                NaN  01-03-2012            25000.0  "
      ]
     },
     "execution_count": 19,
     "metadata": {},
     "output_type": "execute_result"
    }
   ],
   "source": [
    "master_frame[master_frame.name.isnull()]"
   ]
  },
  {
   "cell_type": "code",
   "execution_count": 20,
   "metadata": {
    "ExecuteTime": {
     "end_time": "2021-04-28T09:29:12.574809Z",
     "start_time": "2021-04-28T09:29:12.484845Z"
    }
   },
   "outputs": [],
   "source": [
    "master_frame = master_frame[~(master_frame.name.isnull())]"
   ]
  },
  {
   "cell_type": "markdown",
   "metadata": {},
   "source": [
    "#### Deleting those rows who doesn't have category list"
   ]
  },
  {
   "cell_type": "code",
   "execution_count": 21,
   "metadata": {
    "ExecuteTime": {
     "end_time": "2021-04-28T09:29:12.644812Z",
     "start_time": "2021-04-28T09:29:12.574809Z"
    }
   },
   "outputs": [],
   "source": [
    "master_frame = master_frame[~(master_frame.category_list.isnull())]"
   ]
  },
  {
   "cell_type": "markdown",
   "metadata": {},
   "source": [
    "#### Deleting those rows who doesn't have country code"
   ]
  },
  {
   "cell_type": "code",
   "execution_count": 22,
   "metadata": {
    "ExecuteTime": {
     "end_time": "2021-04-28T09:29:12.714804Z",
     "start_time": "2021-04-28T09:29:12.644812Z"
    }
   },
   "outputs": [],
   "source": [
    "master_frame = master_frame[~(master_frame.country_code.isnull())]"
   ]
  },
  {
   "cell_type": "code",
   "execution_count": 23,
   "metadata": {
    "ExecuteTime": {
     "end_time": "2021-04-28T09:29:12.784804Z",
     "start_time": "2021-04-28T09:29:12.724807Z"
    },
    "scrolled": false
   },
   "outputs": [
    {
     "data": {
      "text/html": [
       "<div>\n",
       "<style scoped>\n",
       "    .dataframe tbody tr th:only-of-type {\n",
       "        vertical-align: middle;\n",
       "    }\n",
       "\n",
       "    .dataframe tbody tr th {\n",
       "        vertical-align: top;\n",
       "    }\n",
       "\n",
       "    .dataframe thead th {\n",
       "        text-align: right;\n",
       "    }\n",
       "</style>\n",
       "<table border=\"1\" class=\"dataframe\">\n",
       "  <thead>\n",
       "    <tr style=\"text-align: right;\">\n",
       "      <th></th>\n",
       "      <th>permalink</th>\n",
       "      <th>name</th>\n",
       "      <th>homepage_url</th>\n",
       "      <th>category_list</th>\n",
       "      <th>status</th>\n",
       "      <th>country_code</th>\n",
       "      <th>state_code</th>\n",
       "      <th>region</th>\n",
       "      <th>city</th>\n",
       "      <th>founded_at</th>\n",
       "      <th>funding_round_permalink</th>\n",
       "      <th>funding_round_type</th>\n",
       "      <th>funding_round_code</th>\n",
       "      <th>funded_at</th>\n",
       "      <th>raised_amount_usd</th>\n",
       "    </tr>\n",
       "  </thead>\n",
       "  <tbody>\n",
       "    <tr>\n",
       "      <th>0</th>\n",
       "      <td>/organization/-fame</td>\n",
       "      <td>#fame</td>\n",
       "      <td>http://livfame.com</td>\n",
       "      <td>Media</td>\n",
       "      <td>operating</td>\n",
       "      <td>IND</td>\n",
       "      <td>16</td>\n",
       "      <td>Mumbai</td>\n",
       "      <td>Mumbai</td>\n",
       "      <td>NaN</td>\n",
       "      <td>/funding-round/9a01d05418af9f794eebff7ace91f638</td>\n",
       "      <td>venture</td>\n",
       "      <td>B</td>\n",
       "      <td>05-01-2015</td>\n",
       "      <td>10000000.0</td>\n",
       "    </tr>\n",
       "    <tr>\n",
       "      <th>1</th>\n",
       "      <td>/organization/-qounter</td>\n",
       "      <td>:Qounter</td>\n",
       "      <td>http://www.qounter.com</td>\n",
       "      <td>Application Platforms|Real Time|Social Network...</td>\n",
       "      <td>operating</td>\n",
       "      <td>USA</td>\n",
       "      <td>DE</td>\n",
       "      <td>DE - Other</td>\n",
       "      <td>Delaware City</td>\n",
       "      <td>04-09-2014</td>\n",
       "      <td>/funding-round/22dacff496eb7acb2b901dec1dfe5633</td>\n",
       "      <td>venture</td>\n",
       "      <td>A</td>\n",
       "      <td>14-10-2014</td>\n",
       "      <td>NaN</td>\n",
       "    </tr>\n",
       "    <tr>\n",
       "      <th>2</th>\n",
       "      <td>/organization/-qounter</td>\n",
       "      <td>:Qounter</td>\n",
       "      <td>http://www.qounter.com</td>\n",
       "      <td>Application Platforms|Real Time|Social Network...</td>\n",
       "      <td>operating</td>\n",
       "      <td>USA</td>\n",
       "      <td>DE</td>\n",
       "      <td>DE - Other</td>\n",
       "      <td>Delaware City</td>\n",
       "      <td>04-09-2014</td>\n",
       "      <td>/funding-round/b44fbb94153f6cdef13083530bb48030</td>\n",
       "      <td>seed</td>\n",
       "      <td>NaN</td>\n",
       "      <td>01-03-2014</td>\n",
       "      <td>700000.0</td>\n",
       "    </tr>\n",
       "    <tr>\n",
       "      <th>4</th>\n",
       "      <td>/organization/0-6-com</td>\n",
       "      <td>0-6.com</td>\n",
       "      <td>http://www.0-6.com</td>\n",
       "      <td>Curated Web</td>\n",
       "      <td>operating</td>\n",
       "      <td>CHN</td>\n",
       "      <td>22</td>\n",
       "      <td>Beijing</td>\n",
       "      <td>Beijing</td>\n",
       "      <td>01-01-2007</td>\n",
       "      <td>/funding-round/5727accaeaa57461bd22a9bdd945382d</td>\n",
       "      <td>venture</td>\n",
       "      <td>A</td>\n",
       "      <td>19-03-2008</td>\n",
       "      <td>2000000.0</td>\n",
       "    </tr>\n",
       "    <tr>\n",
       "      <th>5</th>\n",
       "      <td>/organization/004-technologies</td>\n",
       "      <td>004 Technologies</td>\n",
       "      <td>http://004gmbh.de/en/004-interact</td>\n",
       "      <td>Software</td>\n",
       "      <td>operating</td>\n",
       "      <td>USA</td>\n",
       "      <td>IL</td>\n",
       "      <td>Springfield, Illinois</td>\n",
       "      <td>Champaign</td>\n",
       "      <td>01-01-2010</td>\n",
       "      <td>/funding-round/1278dd4e6a37fa4b7d7e06c21b3c1830</td>\n",
       "      <td>venture</td>\n",
       "      <td>NaN</td>\n",
       "      <td>24-07-2014</td>\n",
       "      <td>NaN</td>\n",
       "    </tr>\n",
       "  </tbody>\n",
       "</table>\n",
       "</div>"
      ],
      "text/plain": [
       "                        permalink              name  \\\n",
       "0             /organization/-fame             #fame   \n",
       "1          /organization/-qounter          :Qounter   \n",
       "2          /organization/-qounter          :Qounter   \n",
       "4           /organization/0-6-com           0-6.com   \n",
       "5  /organization/004-technologies  004 Technologies   \n",
       "\n",
       "                        homepage_url  \\\n",
       "0                 http://livfame.com   \n",
       "1             http://www.qounter.com   \n",
       "2             http://www.qounter.com   \n",
       "4                 http://www.0-6.com   \n",
       "5  http://004gmbh.de/en/004-interact   \n",
       "\n",
       "                                       category_list     status country_code  \\\n",
       "0                                              Media  operating          IND   \n",
       "1  Application Platforms|Real Time|Social Network...  operating          USA   \n",
       "2  Application Platforms|Real Time|Social Network...  operating          USA   \n",
       "4                                        Curated Web  operating          CHN   \n",
       "5                                           Software  operating          USA   \n",
       "\n",
       "  state_code                 region           city  founded_at  \\\n",
       "0         16                 Mumbai         Mumbai         NaN   \n",
       "1         DE             DE - Other  Delaware City  04-09-2014   \n",
       "2         DE             DE - Other  Delaware City  04-09-2014   \n",
       "4         22                Beijing        Beijing  01-01-2007   \n",
       "5         IL  Springfield, Illinois      Champaign  01-01-2010   \n",
       "\n",
       "                           funding_round_permalink funding_round_type  \\\n",
       "0  /funding-round/9a01d05418af9f794eebff7ace91f638            venture   \n",
       "1  /funding-round/22dacff496eb7acb2b901dec1dfe5633            venture   \n",
       "2  /funding-round/b44fbb94153f6cdef13083530bb48030               seed   \n",
       "4  /funding-round/5727accaeaa57461bd22a9bdd945382d            venture   \n",
       "5  /funding-round/1278dd4e6a37fa4b7d7e06c21b3c1830            venture   \n",
       "\n",
       "  funding_round_code   funded_at  raised_amount_usd  \n",
       "0                  B  05-01-2015         10000000.0  \n",
       "1                  A  14-10-2014                NaN  \n",
       "2                NaN  01-03-2014           700000.0  \n",
       "4                  A  19-03-2008          2000000.0  \n",
       "5                NaN  24-07-2014                NaN  "
      ]
     },
     "execution_count": 23,
     "metadata": {},
     "output_type": "execute_result"
    }
   ],
   "source": [
    "master_frame.head()"
   ]
  },
  {
   "cell_type": "markdown",
   "metadata": {},
   "source": [
    "#### Deleting those rows who doesn't have raised amount(since those does not contribute to the analysis)"
   ]
  },
  {
   "cell_type": "code",
   "execution_count": 24,
   "metadata": {
    "ExecuteTime": {
     "end_time": "2021-04-28T09:29:12.844806Z",
     "start_time": "2021-04-28T09:29:12.784804Z"
    }
   },
   "outputs": [],
   "source": [
    "master_frame = master_frame[~(master_frame.raised_amount_usd.isnull())]"
   ]
  },
  {
   "cell_type": "code",
   "execution_count": 25,
   "metadata": {
    "ExecuteTime": {
     "end_time": "2021-04-28T09:29:12.974810Z",
     "start_time": "2021-04-28T09:29:12.844806Z"
    },
    "scrolled": true
   },
   "outputs": [
    {
     "data": {
      "text/plain": [
       "permalink                      0\n",
       "name                           0\n",
       "homepage_url                3251\n",
       "category_list                  0\n",
       "status                         0\n",
       "country_code                   0\n",
       "state_code                  1731\n",
       "region                      1184\n",
       "city                        1181\n",
       "founded_at                 13369\n",
       "funding_round_permalink        0\n",
       "funding_round_type             0\n",
       "funding_round_code         61752\n",
       "funded_at                      0\n",
       "raised_amount_usd              0\n",
       "dtype: int64"
      ]
     },
     "execution_count": 25,
     "metadata": {},
     "output_type": "execute_result"
    }
   ],
   "source": [
    "master_frame.isnull().sum()"
   ]
  },
  {
   "cell_type": "markdown",
   "metadata": {},
   "source": [
    "#### Business objective\n",
    "The objective is to identify the best sectors, countries, and a suitable investment type for making investments. The overall strategy is to invest where others are investing, implying that the 'best' sectors and countries are the ones 'where most investors are investing\n",
    "\n"
   ]
  },
  {
   "cell_type": "markdown",
   "metadata": {},
   "source": [
    "##  Investment type analysis"
   ]
  },
  {
   "cell_type": "code",
   "execution_count": 26,
   "metadata": {
    "ExecuteTime": {
     "end_time": "2021-04-28T09:29:13.044808Z",
     "start_time": "2021-04-28T09:29:12.974810Z"
    },
    "scrolled": true
   },
   "outputs": [
    {
     "data": {
      "text/plain": [
       "funding_round_type\n",
       "venture                  5.605234e+11\n",
       "private_equity           1.345680e+11\n",
       "debt_financing           1.116928e+11\n",
       "post_ipo_equity          3.951408e+10\n",
       "post_ipo_debt            2.558722e+10\n",
       "undisclosed              2.137428e+10\n",
       "seed                     1.577468e+10\n",
       "grant                    8.750122e+09\n",
       "angel                    4.274925e+09\n",
       "secondary_market         2.364279e+09\n",
       "convertible_note         1.765086e+09\n",
       "equity_crowdfunding      5.751649e+08\n",
       "product_crowdfunding     4.465649e+08\n",
       "non_equity_assistance    2.884520e+07\n",
       "Name: raised_amount_usd, dtype: float64"
      ]
     },
     "execution_count": 26,
     "metadata": {},
     "output_type": "execute_result"
    }
   ],
   "source": [
    "master_frame_grouped2 = master_frame.groupby('funding_round_type')\n",
    "master_frame_grouped2.raised_amount_usd.sum().sort_values(ascending=False)"
   ]
  },
  {
   "cell_type": "markdown",
   "metadata": {},
   "source": [
    "#### Most representative amount for respective investment type"
   ]
  },
  {
   "cell_type": "code",
   "execution_count": 27,
   "metadata": {
    "ExecuteTime": {
     "end_time": "2021-04-28T09:29:13.574806Z",
     "start_time": "2021-04-28T09:29:13.044808Z"
    },
    "scrolled": false
   },
   "outputs": [
    {
     "data": {
      "image/png": "[encoded data removed]",
      "text/plain": [
       "<Figure size 576x504 with 1 Axes>"
      ]
     },
     "metadata": {
      "needs_background": "light"
     },
     "output_type": "display_data"
    }
   ],
   "source": [
    "plt.figure(figsize =[8,7])\n",
    "master_frame.raised_amount_usd.plot.box()\n",
    "plt.show()"
   ]
  },
  {
   "cell_type": "markdown",
   "metadata": {},
   "source": [
    "Thus a lot of outliers in the investment hence median is the best representative parameter"
   ]
  },
  {
   "cell_type": "code",
   "execution_count": 28,
   "metadata": {
    "ExecuteTime": {
     "end_time": "2021-04-28T09:29:13.604804Z",
     "start_time": "2021-04-28T09:29:13.574806Z"
    },
    "scrolled": false
   },
   "outputs": [
    {
     "data": {
      "text/plain": [
       "funding_round_type\n",
       "secondary_market         45850000.0\n",
       "private_equity           20000000.0\n",
       "post_ipo_debt            19900000.0\n",
       "post_ipo_equity          12262852.5\n",
       "venture                   5000000.0\n",
       "undisclosed               1100000.0\n",
       "debt_financing            1096653.0\n",
       "angel                      414906.0\n",
       "convertible_note           300000.0\n",
       "seed                       300000.0\n",
       "grant                      225000.0\n",
       "product_crowdfunding       211500.0\n",
       "equity_crowdfunding         85000.0\n",
       "non_equity_assistance       60000.0\n",
       "Name: raised_amount_usd, dtype: float64"
      ]
     },
     "execution_count": 28,
     "metadata": {},
     "output_type": "execute_result"
    }
   ],
   "source": [
    "master_frame_grouped2.raised_amount_usd.median().sort_values(ascending=False)"
   ]
  },
  {
   "cell_type": "code",
   "execution_count": 29,
   "metadata": {
    "ExecuteTime": {
     "end_time": "2021-04-28T09:29:14.214807Z",
     "start_time": "2021-04-28T09:29:13.604804Z"
    },
    "scrolled": true
   },
   "outputs": [
    {
     "data": {
      "image/png": "[encoded data removed]",
      "text/plain": [
       "<Figure size 720x360 with 1 Axes>"
      ]
     },
     "metadata": {
      "needs_background": "light"
     },
     "output_type": "display_data"
    }
   ],
   "source": [
    "plt.figure(figsize=(10, 5))\n",
    "master_frame_grouped2.raised_amount_usd.median().sort_values(\n",
    "    ascending=False).plot.bar(color='g', grid=True)\n",
    "plt.xlabel('Invesrtment type')\n",
    "plt.ylabel('Investment amount in USD')\n",
    "plt.title('Investment type plot with most representative amount', fontsize=12)\n",
    "plt.ylim(0, 4.5e7)\n",
    "plt.show()"
   ]
  },
  {
   "cell_type": "code",
   "execution_count": 30,
   "metadata": {
    "ExecuteTime": {
     "end_time": "2021-04-28T09:29:14.254803Z",
     "start_time": "2021-04-28T09:29:14.214807Z"
    }
   },
   "outputs": [
    {
     "data": {
      "text/plain": [
       "venture                  47809\n",
       "seed                     21094\n",
       "debt_financing            6506\n",
       "angel                     4400\n",
       "grant                     1939\n",
       "private_equity            1820\n",
       "undisclosed               1345\n",
       "convertible_note          1320\n",
       "equity_crowdfunding       1128\n",
       "post_ipo_equity            598\n",
       "product_crowdfunding       330\n",
       "post_ipo_debt              151\n",
       "non_equity_assistance       60\n",
       "secondary_market            28\n",
       "Name: funding_round_type, dtype: int64"
      ]
     },
     "execution_count": 30,
     "metadata": {},
     "output_type": "execute_result"
    }
   ],
   "source": [
    "master_frame.funding_round_type.value_counts()"
   ]
  },
  {
   "cell_type": "markdown",
   "metadata": {},
   "source": [
    "venture = 5000000.0\n",
    "\n",
    "angel = 414906.0\n",
    "\n",
    "seed = 300000.0\n",
    "\n",
    "private equity = 20000000.0\n",
    "\n",
    "Angel & seed are less and private equity is more than Spark fund's investment amount(USD 5M - 15M) respectively. Post ipo equity and venture are in the bracket but Venture  investment type is most frequent thus it is the most suitable for Spark fund.\n",
    "\n",
    "FT = Venture"
   ]
  },
  {
   "cell_type": "markdown",
   "metadata": {
    "ExecuteTime": {
     "end_time": "2021-04-27T15:02:12.427099Z",
     "start_time": "2021-04-27T15:02:12.417099Z"
    }
   },
   "source": [
    "#### Grouping top 9 countries who have received highest total investment where FT = Venture"
   ]
  },
  {
   "cell_type": "code",
   "execution_count": 31,
   "metadata": {
    "ExecuteTime": {
     "end_time": "2021-04-28T09:29:14.304805Z",
     "start_time": "2021-04-28T09:29:14.254803Z"
    }
   },
   "outputs": [
    {
     "data": {
      "text/plain": [
       "USA    61691\n",
       "GBR     4990\n",
       "CAN     2598\n",
       "CHN     1911\n",
       "IND     1630\n",
       "       ...  \n",
       "SYC        1\n",
       "BRB        1\n",
       "SEN        1\n",
       "UZB        1\n",
       "PRY        1\n",
       "Name: country_code, Length: 134, dtype: int64"
      ]
     },
     "execution_count": 31,
     "metadata": {},
     "output_type": "execute_result"
    }
   ],
   "source": [
    "master_frame.country_code.value_counts()"
   ]
  },
  {
   "cell_type": "code",
   "execution_count": 32,
   "metadata": {
    "ExecuteTime": {
     "end_time": "2021-04-28T09:29:14.414802Z",
     "start_time": "2021-04-28T09:29:14.304805Z"
    },
    "scrolled": true
   },
   "outputs": [
    {
     "data": {
      "text/html": [
       "<div>\n",
       "<style scoped>\n",
       "    .dataframe tbody tr th:only-of-type {\n",
       "        vertical-align: middle;\n",
       "    }\n",
       "\n",
       "    .dataframe tbody tr th {\n",
       "        vertical-align: top;\n",
       "    }\n",
       "\n",
       "    .dataframe thead th {\n",
       "        text-align: right;\n",
       "    }\n",
       "</style>\n",
       "<table border=\"1\" class=\"dataframe\">\n",
       "  <thead>\n",
       "    <tr style=\"text-align: right;\">\n",
       "      <th></th>\n",
       "      <th>permalink</th>\n",
       "      <th>name</th>\n",
       "      <th>homepage_url</th>\n",
       "      <th>category_list</th>\n",
       "      <th>status</th>\n",
       "      <th>country_code</th>\n",
       "      <th>state_code</th>\n",
       "      <th>region</th>\n",
       "      <th>city</th>\n",
       "      <th>founded_at</th>\n",
       "      <th>funding_round_permalink</th>\n",
       "      <th>funding_round_type</th>\n",
       "      <th>funding_round_code</th>\n",
       "      <th>funded_at</th>\n",
       "      <th>raised_amount_usd</th>\n",
       "    </tr>\n",
       "  </thead>\n",
       "  <tbody>\n",
       "    <tr>\n",
       "      <th>0</th>\n",
       "      <td>/organization/-fame</td>\n",
       "      <td>#fame</td>\n",
       "      <td>http://livfame.com</td>\n",
       "      <td>Media</td>\n",
       "      <td>operating</td>\n",
       "      <td>IND</td>\n",
       "      <td>16</td>\n",
       "      <td>Mumbai</td>\n",
       "      <td>Mumbai</td>\n",
       "      <td>NaN</td>\n",
       "      <td>/funding-round/9a01d05418af9f794eebff7ace91f638</td>\n",
       "      <td>venture</td>\n",
       "      <td>B</td>\n",
       "      <td>05-01-2015</td>\n",
       "      <td>10000000.0</td>\n",
       "    </tr>\n",
       "    <tr>\n",
       "      <th>4</th>\n",
       "      <td>/organization/0-6-com</td>\n",
       "      <td>0-6.com</td>\n",
       "      <td>http://www.0-6.com</td>\n",
       "      <td>Curated Web</td>\n",
       "      <td>operating</td>\n",
       "      <td>CHN</td>\n",
       "      <td>22</td>\n",
       "      <td>Beijing</td>\n",
       "      <td>Beijing</td>\n",
       "      <td>01-01-2007</td>\n",
       "      <td>/funding-round/5727accaeaa57461bd22a9bdd945382d</td>\n",
       "      <td>venture</td>\n",
       "      <td>A</td>\n",
       "      <td>19-03-2008</td>\n",
       "      <td>2000000.0</td>\n",
       "    </tr>\n",
       "    <tr>\n",
       "      <th>8</th>\n",
       "      <td>/organization/0ndine-biomedical-inc</td>\n",
       "      <td>Ondine Biomedical Inc.</td>\n",
       "      <td>http://ondinebio.com</td>\n",
       "      <td>Biotechnology</td>\n",
       "      <td>operating</td>\n",
       "      <td>CAN</td>\n",
       "      <td>BC</td>\n",
       "      <td>Vancouver</td>\n",
       "      <td>Vancouver</td>\n",
       "      <td>01-01-1997</td>\n",
       "      <td>/funding-round/954b9499724b946ad8c396a57a5f3b72</td>\n",
       "      <td>venture</td>\n",
       "      <td>NaN</td>\n",
       "      <td>21-12-2009</td>\n",
       "      <td>719491.0</td>\n",
       "    </tr>\n",
       "    <tr>\n",
       "      <th>10</th>\n",
       "      <td>/organization/0xdata</td>\n",
       "      <td>H2O.ai</td>\n",
       "      <td>http://h2o.ai/</td>\n",
       "      <td>Analytics</td>\n",
       "      <td>operating</td>\n",
       "      <td>USA</td>\n",
       "      <td>CA</td>\n",
       "      <td>SF Bay Area</td>\n",
       "      <td>Mountain View</td>\n",
       "      <td>01-01-2011</td>\n",
       "      <td>/funding-round/3bb2ee4a2d89251a10aaa735b1180e44</td>\n",
       "      <td>venture</td>\n",
       "      <td>B</td>\n",
       "      <td>09-11-2015</td>\n",
       "      <td>20000000.0</td>\n",
       "    </tr>\n",
       "    <tr>\n",
       "      <th>11</th>\n",
       "      <td>/organization/0xdata</td>\n",
       "      <td>H2O.ai</td>\n",
       "      <td>http://h2o.ai/</td>\n",
       "      <td>Analytics</td>\n",
       "      <td>operating</td>\n",
       "      <td>USA</td>\n",
       "      <td>CA</td>\n",
       "      <td>SF Bay Area</td>\n",
       "      <td>Mountain View</td>\n",
       "      <td>01-01-2011</td>\n",
       "      <td>/funding-round/ae2a174c06517c2394aed45006322a7e</td>\n",
       "      <td>venture</td>\n",
       "      <td>NaN</td>\n",
       "      <td>03-01-2013</td>\n",
       "      <td>1700000.0</td>\n",
       "    </tr>\n",
       "  </tbody>\n",
       "</table>\n",
       "</div>"
      ],
      "text/plain": [
       "                              permalink                    name  \\\n",
       "0                   /organization/-fame                   #fame   \n",
       "4                 /organization/0-6-com                 0-6.com   \n",
       "8   /organization/0ndine-biomedical-inc  Ondine Biomedical Inc.   \n",
       "10                 /organization/0xdata                  H2O.ai   \n",
       "11                 /organization/0xdata                  H2O.ai   \n",
       "\n",
       "            homepage_url  category_list     status country_code state_code  \\\n",
       "0     http://livfame.com          Media  operating          IND         16   \n",
       "4     http://www.0-6.com    Curated Web  operating          CHN         22   \n",
       "8   http://ondinebio.com  Biotechnology  operating          CAN         BC   \n",
       "10        http://h2o.ai/      Analytics  operating          USA         CA   \n",
       "11        http://h2o.ai/      Analytics  operating          USA         CA   \n",
       "\n",
       "         region           city  founded_at  \\\n",
       "0        Mumbai         Mumbai         NaN   \n",
       "4       Beijing        Beijing  01-01-2007   \n",
       "8     Vancouver      Vancouver  01-01-1997   \n",
       "10  SF Bay Area  Mountain View  01-01-2011   \n",
       "11  SF Bay Area  Mountain View  01-01-2011   \n",
       "\n",
       "                            funding_round_permalink funding_round_type  \\\n",
       "0   /funding-round/9a01d05418af9f794eebff7ace91f638            venture   \n",
       "4   /funding-round/5727accaeaa57461bd22a9bdd945382d            venture   \n",
       "8   /funding-round/954b9499724b946ad8c396a57a5f3b72            venture   \n",
       "10  /funding-round/3bb2ee4a2d89251a10aaa735b1180e44            venture   \n",
       "11  /funding-round/ae2a174c06517c2394aed45006322a7e            venture   \n",
       "\n",
       "   funding_round_code   funded_at  raised_amount_usd  \n",
       "0                   B  05-01-2015         10000000.0  \n",
       "4                   A  19-03-2008          2000000.0  \n",
       "8                 NaN  21-12-2009           719491.0  \n",
       "10                  B  09-11-2015         20000000.0  \n",
       "11                NaN  03-01-2013          1700000.0  "
      ]
     },
     "execution_count": 32,
     "metadata": {},
     "output_type": "execute_result"
    }
   ],
   "source": [
    "top9 = master_frame[master_frame.funding_round_type == 'venture']\n",
    "top9.head()"
   ]
  },
  {
   "cell_type": "markdown",
   "metadata": {},
   "source": [
    "Top english speaking countries according to population  % = US, India, Pakistan, Phillipines, Nigeria, UK\n",
    "\n",
    " ISO Code = ['USA', 'IND', 'PAK', 'PHL', 'NGA', 'GBR']\n",
    "\n",
    "Site: https://en.wikipedia.org/wiki/List_of_countries_and_territories_where_English_is_an_official_language"
   ]
  },
  {
   "cell_type": "code",
   "execution_count": 33,
   "metadata": {
    "ExecuteTime": {
     "end_time": "2021-04-28T09:29:14.884806Z",
     "start_time": "2021-04-28T09:29:14.414802Z"
    },
    "scrolled": false
   },
   "outputs": [
    {
     "data": {
      "image/png": "[encoded data removed]",
      "text/plain": [
       "<Figure size 720x360 with 1 Axes>"
      ]
     },
     "metadata": {
      "needs_background": "light"
     },
     "output_type": "display_data"
    }
   ],
   "source": [
    "top9_grouped = top9.groupby('country_code')\n",
    "plt.figure(figsize=(10, 5))\n",
    "top9_grouped.raised_amount_usd.sum().sort_values(ascending = False)[0:9].plot.bar(color = 'g', grid = True)\n",
    "plt.xlabel('Country code')\n",
    "plt.ylabel('Investment amount in USD (*1e11)')\n",
    "plt.title('Country code vs Investment amount for FT = Venture', fontsize = 12)\n",
    "plt.show()"
   ]
  },
  {
   "cell_type": "markdown",
   "metadata": {},
   "source": [
    "Thus top 3 english country with highest investment amount are:\n",
    "    1. USA\n",
    "    2. GBR\n",
    "    3. IND"
   ]
  },
  {
   "cell_type": "markdown",
   "metadata": {},
   "source": [
    "##  Sectors type analysis"
   ]
  },
  {
   "cell_type": "code",
   "execution_count": 34,
   "metadata": {
    "ExecuteTime": {
     "end_time": "2021-04-28T09:29:14.924802Z",
     "start_time": "2021-04-28T09:29:14.884806Z"
    }
   },
   "outputs": [
    {
     "data": {
      "text/html": [
       "<div>\n",
       "<style scoped>\n",
       "    .dataframe tbody tr th:only-of-type {\n",
       "        vertical-align: middle;\n",
       "    }\n",
       "\n",
       "    .dataframe tbody tr th {\n",
       "        vertical-align: top;\n",
       "    }\n",
       "\n",
       "    .dataframe thead th {\n",
       "        text-align: right;\n",
       "    }\n",
       "</style>\n",
       "<table border=\"1\" class=\"dataframe\">\n",
       "  <thead>\n",
       "    <tr style=\"text-align: right;\">\n",
       "      <th></th>\n",
       "      <th>category_list</th>\n",
       "      <th>Automotive &amp; Sports</th>\n",
       "      <th>Blanks</th>\n",
       "      <th>Cleantech / Semiconductors</th>\n",
       "      <th>Entertainment</th>\n",
       "      <th>Health</th>\n",
       "      <th>Manufacturing</th>\n",
       "      <th>News, Search and Messaging</th>\n",
       "      <th>Others</th>\n",
       "      <th>Social, Finance, Analytics, Advertising</th>\n",
       "    </tr>\n",
       "  </thead>\n",
       "  <tbody>\n",
       "    <tr>\n",
       "      <th>0</th>\n",
       "      <td>NaN</td>\n",
       "      <td>0</td>\n",
       "      <td>1</td>\n",
       "      <td>0</td>\n",
       "      <td>0</td>\n",
       "      <td>0</td>\n",
       "      <td>0</td>\n",
       "      <td>0</td>\n",
       "      <td>0</td>\n",
       "      <td>0</td>\n",
       "    </tr>\n",
       "    <tr>\n",
       "      <th>1</th>\n",
       "      <td>3D</td>\n",
       "      <td>0</td>\n",
       "      <td>0</td>\n",
       "      <td>0</td>\n",
       "      <td>0</td>\n",
       "      <td>0</td>\n",
       "      <td>1</td>\n",
       "      <td>0</td>\n",
       "      <td>0</td>\n",
       "      <td>0</td>\n",
       "    </tr>\n",
       "    <tr>\n",
       "      <th>2</th>\n",
       "      <td>3D Printing</td>\n",
       "      <td>0</td>\n",
       "      <td>0</td>\n",
       "      <td>0</td>\n",
       "      <td>0</td>\n",
       "      <td>0</td>\n",
       "      <td>1</td>\n",
       "      <td>0</td>\n",
       "      <td>0</td>\n",
       "      <td>0</td>\n",
       "    </tr>\n",
       "    <tr>\n",
       "      <th>3</th>\n",
       "      <td>3D Technology</td>\n",
       "      <td>0</td>\n",
       "      <td>0</td>\n",
       "      <td>0</td>\n",
       "      <td>0</td>\n",
       "      <td>0</td>\n",
       "      <td>1</td>\n",
       "      <td>0</td>\n",
       "      <td>0</td>\n",
       "      <td>0</td>\n",
       "    </tr>\n",
       "    <tr>\n",
       "      <th>4</th>\n",
       "      <td>Accounting</td>\n",
       "      <td>0</td>\n",
       "      <td>0</td>\n",
       "      <td>0</td>\n",
       "      <td>0</td>\n",
       "      <td>0</td>\n",
       "      <td>0</td>\n",
       "      <td>0</td>\n",
       "      <td>0</td>\n",
       "      <td>1</td>\n",
       "    </tr>\n",
       "  </tbody>\n",
       "</table>\n",
       "</div>"
      ],
      "text/plain": [
       "   category_list  Automotive & Sports  Blanks  Cleantech / Semiconductors  \\\n",
       "0            NaN                    0       1                           0   \n",
       "1             3D                    0       0                           0   \n",
       "2    3D Printing                    0       0                           0   \n",
       "3  3D Technology                    0       0                           0   \n",
       "4     Accounting                    0       0                           0   \n",
       "\n",
       "   Entertainment  Health  Manufacturing  News, Search and Messaging  Others  \\\n",
       "0              0       0              0                           0       0   \n",
       "1              0       0              1                           0       0   \n",
       "2              0       0              1                           0       0   \n",
       "3              0       0              1                           0       0   \n",
       "4              0       0              0                           0       0   \n",
       "\n",
       "   Social, Finance, Analytics, Advertising  \n",
       "0                                        0  \n",
       "1                                        0  \n",
       "2                                        0  \n",
       "3                                        0  \n",
       "4                                        1  "
      ]
     },
     "execution_count": 34,
     "metadata": {},
     "output_type": "execute_result"
    }
   ],
   "source": [
    "mapping.head()"
   ]
  },
  {
   "cell_type": "code",
   "execution_count": 35,
   "metadata": {
    "ExecuteTime": {
     "end_time": "2021-04-28T09:29:14.954841Z",
     "start_time": "2021-04-28T09:29:14.924802Z"
    },
    "scrolled": true
   },
   "outputs": [
    {
     "data": {
      "text/plain": [
       "category_list                              1\n",
       "Automotive & Sports                        0\n",
       "Blanks                                     0\n",
       "Cleantech / Semiconductors                 0\n",
       "Entertainment                              0\n",
       "Health                                     0\n",
       "Manufacturing                              0\n",
       "News, Search and Messaging                 0\n",
       "Others                                     0\n",
       "Social, Finance, Analytics, Advertising    0\n",
       "dtype: int64"
      ]
     },
     "execution_count": 35,
     "metadata": {},
     "output_type": "execute_result"
    }
   ],
   "source": [
    "mapping.isnull().sum()"
   ]
  },
  {
   "cell_type": "markdown",
   "metadata": {},
   "source": [
    "#### Delete the row with no category list information"
   ]
  },
  {
   "cell_type": "code",
   "execution_count": 36,
   "metadata": {
    "ExecuteTime": {
     "end_time": "2021-04-28T09:29:14.974805Z",
     "start_time": "2021-04-28T09:29:14.954841Z"
    }
   },
   "outputs": [],
   "source": [
    "mapping = mapping[~(mapping.category_list.isnull())]"
   ]
  },
  {
   "cell_type": "code",
   "execution_count": 37,
   "metadata": {
    "ExecuteTime": {
     "end_time": "2021-04-28T09:29:14.994806Z",
     "start_time": "2021-04-28T09:29:14.974805Z"
    }
   },
   "outputs": [],
   "source": [
    "mapping = mapping.drop('Blanks', axis = 1)"
   ]
  },
  {
   "cell_type": "code",
   "execution_count": 38,
   "metadata": {
    "ExecuteTime": {
     "end_time": "2021-04-28T09:29:15.024802Z",
     "start_time": "2021-04-28T09:29:14.994806Z"
    }
   },
   "outputs": [],
   "source": [
    "'''Function to extract the main sector from the category list of master frame'''\n",
    "\n",
    "def GetMainSector(CategoryMaster):\n",
    "    MainSector = ''\n",
    "    #Split the category names and keep only first sector name\n",
    "    CategoryMaster = CategoryMaster.split('|')[0] \n",
    "\n",
    "    RowIndex = 0\n",
    "    # Looping through the mapping category list\n",
    "    for CategoryMapping in mapping.category_list.values: \n",
    "        #When mapping category is equal to master frame catergory\n",
    "        if CategoryMapping == CategoryMaster: \n",
    "\n",
    "            ColIndex = 0\n",
    "             #Looping through the different row of each entries\n",
    "            for SectorValue in mapping.iloc[RowIndex, 1:].values: \n",
    "                if SectorValue == 1:\n",
    "                    #Extracts the column name which indicates its linkage with a specific 8 main sectors\n",
    "                    MainSector = str(mapping.columns[1:][ColIndex]).strip()\n",
    "                    if  MainSector == \"\":\n",
    "                        MainSector = np.nan\n",
    "\n",
    "                ColIndex += 1\n",
    "        RowIndex += 1\n",
    "    return MainSector"
   ]
  },
  {
   "cell_type": "code",
   "execution_count": 39,
   "metadata": {
    "ExecuteTime": {
     "end_time": "2021-04-28T09:30:10.050038Z",
     "start_time": "2021-04-28T09:29:15.024802Z"
    }
   },
   "outputs": [],
   "source": [
    "'''Segregation of the primary and main sector from the mapping dataframe and master dataframe'''\n",
    "\n",
    "master_frame['primary_sector'] = master_frame.category_list.apply(\n",
    "    lambda x: x.split('|')[0])\n",
    "master_frame['main_sector'] = master_frame.category_list.apply(\n",
    "    lambda x: GetMainSector(x))"
   ]
  },
  {
   "cell_type": "code",
   "execution_count": 40,
   "metadata": {
    "ExecuteTime": {
     "end_time": "2021-04-28T09:30:10.090001Z",
     "start_time": "2021-04-28T09:30:10.050038Z"
    }
   },
   "outputs": [
    {
     "data": {
      "text/html": [
       "<div>\n",
       "<style scoped>\n",
       "    .dataframe tbody tr th:only-of-type {\n",
       "        vertical-align: middle;\n",
       "    }\n",
       "\n",
       "    .dataframe tbody tr th {\n",
       "        vertical-align: top;\n",
       "    }\n",
       "\n",
       "    .dataframe thead th {\n",
       "        text-align: right;\n",
       "    }\n",
       "</style>\n",
       "<table border=\"1\" class=\"dataframe\">\n",
       "  <thead>\n",
       "    <tr style=\"text-align: right;\">\n",
       "      <th></th>\n",
       "      <th>permalink</th>\n",
       "      <th>name</th>\n",
       "      <th>homepage_url</th>\n",
       "      <th>category_list</th>\n",
       "      <th>status</th>\n",
       "      <th>country_code</th>\n",
       "      <th>state_code</th>\n",
       "      <th>region</th>\n",
       "      <th>city</th>\n",
       "      <th>founded_at</th>\n",
       "      <th>funding_round_permalink</th>\n",
       "      <th>funding_round_type</th>\n",
       "      <th>funding_round_code</th>\n",
       "      <th>funded_at</th>\n",
       "      <th>raised_amount_usd</th>\n",
       "      <th>primary_sector</th>\n",
       "      <th>main_sector</th>\n",
       "    </tr>\n",
       "  </thead>\n",
       "  <tbody>\n",
       "    <tr>\n",
       "      <th>0</th>\n",
       "      <td>/organization/-fame</td>\n",
       "      <td>#fame</td>\n",
       "      <td>http://livfame.com</td>\n",
       "      <td>Media</td>\n",
       "      <td>operating</td>\n",
       "      <td>IND</td>\n",
       "      <td>16</td>\n",
       "      <td>Mumbai</td>\n",
       "      <td>Mumbai</td>\n",
       "      <td>NaN</td>\n",
       "      <td>/funding-round/9a01d05418af9f794eebff7ace91f638</td>\n",
       "      <td>venture</td>\n",
       "      <td>B</td>\n",
       "      <td>05-01-2015</td>\n",
       "      <td>10000000.0</td>\n",
       "      <td>Media</td>\n",
       "      <td>Entertainment</td>\n",
       "    </tr>\n",
       "    <tr>\n",
       "      <th>2</th>\n",
       "      <td>/organization/-qounter</td>\n",
       "      <td>:Qounter</td>\n",
       "      <td>http://www.qounter.com</td>\n",
       "      <td>Application Platforms|Real Time|Social Network...</td>\n",
       "      <td>operating</td>\n",
       "      <td>USA</td>\n",
       "      <td>DE</td>\n",
       "      <td>DE - Other</td>\n",
       "      <td>Delaware City</td>\n",
       "      <td>04-09-2014</td>\n",
       "      <td>/funding-round/b44fbb94153f6cdef13083530bb48030</td>\n",
       "      <td>seed</td>\n",
       "      <td>NaN</td>\n",
       "      <td>01-03-2014</td>\n",
       "      <td>700000.0</td>\n",
       "      <td>Application Platforms</td>\n",
       "      <td>News, Search and Messaging</td>\n",
       "    </tr>\n",
       "    <tr>\n",
       "      <th>4</th>\n",
       "      <td>/organization/0-6-com</td>\n",
       "      <td>0-6.com</td>\n",
       "      <td>http://www.0-6.com</td>\n",
       "      <td>Curated Web</td>\n",
       "      <td>operating</td>\n",
       "      <td>CHN</td>\n",
       "      <td>22</td>\n",
       "      <td>Beijing</td>\n",
       "      <td>Beijing</td>\n",
       "      <td>01-01-2007</td>\n",
       "      <td>/funding-round/5727accaeaa57461bd22a9bdd945382d</td>\n",
       "      <td>venture</td>\n",
       "      <td>A</td>\n",
       "      <td>19-03-2008</td>\n",
       "      <td>2000000.0</td>\n",
       "      <td>Curated Web</td>\n",
       "      <td>News, Search and Messaging</td>\n",
       "    </tr>\n",
       "    <tr>\n",
       "      <th>6</th>\n",
       "      <td>/organization/01games-technology</td>\n",
       "      <td>01Games Technology</td>\n",
       "      <td>http://www.01games.hk/</td>\n",
       "      <td>Games</td>\n",
       "      <td>operating</td>\n",
       "      <td>HKG</td>\n",
       "      <td>NaN</td>\n",
       "      <td>Hong Kong</td>\n",
       "      <td>Hong Kong</td>\n",
       "      <td>NaN</td>\n",
       "      <td>/funding-round/7d53696f2b4f607a2f2a8cbb83d01839</td>\n",
       "      <td>undisclosed</td>\n",
       "      <td>NaN</td>\n",
       "      <td>01-07-2014</td>\n",
       "      <td>41250.0</td>\n",
       "      <td>Games</td>\n",
       "      <td>Entertainment</td>\n",
       "    </tr>\n",
       "    <tr>\n",
       "      <th>7</th>\n",
       "      <td>/organization/0ndine-biomedical-inc</td>\n",
       "      <td>Ondine Biomedical Inc.</td>\n",
       "      <td>http://ondinebio.com</td>\n",
       "      <td>Biotechnology</td>\n",
       "      <td>operating</td>\n",
       "      <td>CAN</td>\n",
       "      <td>BC</td>\n",
       "      <td>Vancouver</td>\n",
       "      <td>Vancouver</td>\n",
       "      <td>01-01-1997</td>\n",
       "      <td>/funding-round/2b9d3ac293d5cdccbecff5c8cb0f327d</td>\n",
       "      <td>seed</td>\n",
       "      <td>NaN</td>\n",
       "      <td>11-09-2009</td>\n",
       "      <td>43360.0</td>\n",
       "      <td>Biotechnology</td>\n",
       "      <td>Cleantech / Semiconductors</td>\n",
       "    </tr>\n",
       "  </tbody>\n",
       "</table>\n",
       "</div>"
      ],
      "text/plain": [
       "                             permalink                    name  \\\n",
       "0                  /organization/-fame                   #fame   \n",
       "2               /organization/-qounter                :Qounter   \n",
       "4                /organization/0-6-com                 0-6.com   \n",
       "6     /organization/01games-technology      01Games Technology   \n",
       "7  /organization/0ndine-biomedical-inc  Ondine Biomedical Inc.   \n",
       "\n",
       "             homepage_url                                      category_list  \\\n",
       "0      http://livfame.com                                              Media   \n",
       "2  http://www.qounter.com  Application Platforms|Real Time|Social Network...   \n",
       "4      http://www.0-6.com                                        Curated Web   \n",
       "6  http://www.01games.hk/                                              Games   \n",
       "7    http://ondinebio.com                                      Biotechnology   \n",
       "\n",
       "      status country_code state_code      region           city  founded_at  \\\n",
       "0  operating          IND         16      Mumbai         Mumbai         NaN   \n",
       "2  operating          USA         DE  DE - Other  Delaware City  04-09-2014   \n",
       "4  operating          CHN         22     Beijing        Beijing  01-01-2007   \n",
       "6  operating          HKG        NaN   Hong Kong      Hong Kong         NaN   \n",
       "7  operating          CAN         BC   Vancouver      Vancouver  01-01-1997   \n",
       "\n",
       "                           funding_round_permalink funding_round_type  \\\n",
       "0  /funding-round/9a01d05418af9f794eebff7ace91f638            venture   \n",
       "2  /funding-round/b44fbb94153f6cdef13083530bb48030               seed   \n",
       "4  /funding-round/5727accaeaa57461bd22a9bdd945382d            venture   \n",
       "6  /funding-round/7d53696f2b4f607a2f2a8cbb83d01839        undisclosed   \n",
       "7  /funding-round/2b9d3ac293d5cdccbecff5c8cb0f327d               seed   \n",
       "\n",
       "  funding_round_code   funded_at  raised_amount_usd         primary_sector  \\\n",
       "0                  B  05-01-2015         10000000.0                  Media   \n",
       "2                NaN  01-03-2014           700000.0  Application Platforms   \n",
       "4                  A  19-03-2008          2000000.0            Curated Web   \n",
       "6                NaN  01-07-2014            41250.0                  Games   \n",
       "7                NaN  11-09-2009            43360.0          Biotechnology   \n",
       "\n",
       "                  main_sector  \n",
       "0               Entertainment  \n",
       "2  News, Search and Messaging  \n",
       "4  News, Search and Messaging  \n",
       "6               Entertainment  \n",
       "7  Cleantech / Semiconductors  "
      ]
     },
     "execution_count": 40,
     "metadata": {},
     "output_type": "execute_result"
    }
   ],
   "source": [
    "master_frame.head()"
   ]
  },
  {
   "cell_type": "code",
   "execution_count": 41,
   "metadata": {
    "ExecuteTime": {
     "end_time": "2021-04-28T09:30:10.120016Z",
     "start_time": "2021-04-28T09:30:10.090001Z"
    },
    "scrolled": true
   },
   "outputs": [
    {
     "data": {
      "text/plain": [
       "Others                                     20111\n",
       "Social, Finance, Analytics, Advertising    14985\n",
       "Cleantech / Semiconductors                 14464\n",
       "News, Search and Messaging                 12326\n",
       "Health                                      6765\n",
       "                                            6401\n",
       "Entertainment                               5986\n",
       "Manufacturing                               5696\n",
       "Automotive & Sports                         1794\n",
       "Name: main_sector, dtype: int64"
      ]
     },
     "execution_count": 41,
     "metadata": {},
     "output_type": "execute_result"
    }
   ],
   "source": [
    "master_frame.main_sector.value_counts()"
   ]
  },
  {
   "cell_type": "markdown",
   "metadata": {},
   "source": [
    "### Prior configurations"
   ]
  },
  {
   "cell_type": "code",
   "execution_count": 42,
   "metadata": {
    "ExecuteTime": {
     "end_time": "2021-04-28T09:30:10.130002Z",
     "start_time": "2021-04-28T09:30:10.120016Z"
    }
   },
   "outputs": [],
   "source": [
    "'''Spark Funds wants to invest between 5 to 15 million USD'''\n",
    "LowCap = 5000000\n",
    "HighCap = 15000000\n",
    "\n",
    "'''Venture investment type is the most suitable '''\n",
    "RoundType = 'venture' #FT\n",
    "\n",
    "'''top 3 english country with highest investment amount'''\n",
    "CountryCode = ['USA', 'GBR', 'IND']"
   ]
  },
  {
   "cell_type": "markdown",
   "metadata": {},
   "source": [
    "## USA"
   ]
  },
  {
   "cell_type": "code",
   "execution_count": 43,
   "metadata": {
    "ExecuteTime": {
     "end_time": "2021-04-28T09:30:10.300297Z",
     "start_time": "2021-04-28T09:30:10.130002Z"
    }
   },
   "outputs": [],
   "source": [
    "\n",
    "D1 = master_frame[(master_frame.raised_amount_usd >= LowCap) & \n",
    "                                (master_frame.raised_amount_usd <= HighCap)&\n",
    "                                (master_frame.funding_round_type == RoundType)&\n",
    "                                (master_frame.country_code == CountryCode[0])\n",
    "                                ]"
   ]
  },
  {
   "cell_type": "markdown",
   "metadata": {},
   "source": [
    "####  Total number of investments in USA"
   ]
  },
  {
   "cell_type": "code",
   "execution_count": 44,
   "metadata": {
    "ExecuteTime": {
     "end_time": "2021-04-28T09:30:10.320004Z",
     "start_time": "2021-04-28T09:30:10.300297Z"
    },
    "scrolled": true
   },
   "outputs": [
    {
     "data": {
      "text/plain": [
       "USA    12064\n",
       "Name: country_code, dtype: int64"
      ]
     },
     "execution_count": 44,
     "metadata": {},
     "output_type": "execute_result"
    }
   ],
   "source": [
    "D1.country_code.value_counts()"
   ]
  },
  {
   "cell_type": "markdown",
   "metadata": {},
   "source": [
    "#### Total amount of investment (USD)"
   ]
  },
  {
   "cell_type": "code",
   "execution_count": 45,
   "metadata": {
    "ExecuteTime": {
     "end_time": "2021-04-28T09:30:10.339999Z",
     "start_time": "2021-04-28T09:30:10.320004Z"
    },
    "scrolled": true
   },
   "outputs": [
    {
     "data": {
      "text/plain": [
       "107766584223.0"
      ]
     },
     "execution_count": 45,
     "metadata": {},
     "output_type": "execute_result"
    }
   ],
   "source": [
    "D1.raised_amount_usd.sum()"
   ]
  },
  {
   "cell_type": "markdown",
   "metadata": {},
   "source": [
    "#### Number of investments in top 3 sector"
   ]
  },
  {
   "cell_type": "code",
   "execution_count": 46,
   "metadata": {
    "ExecuteTime": {
     "end_time": "2021-04-28T09:30:10.360040Z",
     "start_time": "2021-04-28T09:30:10.339999Z"
    },
    "scrolled": false
   },
   "outputs": [
    {
     "data": {
      "text/plain": [
       "Others                                     2923\n",
       "Cleantech / Semiconductors                 2297\n",
       "Social, Finance, Analytics, Advertising    1912\n",
       "Name: main_sector, dtype: int64"
      ]
     },
     "execution_count": 46,
     "metadata": {},
     "output_type": "execute_result"
    }
   ],
   "source": [
    "D1.main_sector.value_counts().sort_values(ascending = False)[0:3]"
   ]
  },
  {
   "cell_type": "markdown",
   "metadata": {},
   "source": [
    "So top 3 sectors in USA are :\n",
    "\n",
    "    1. Others            \n",
    "    \n",
    "    2. Cleantech / Semiconductors\n",
    "    \n",
    "    3. Social, Finance, Analytics, Advertising"
   ]
  },
  {
   "cell_type": "markdown",
   "metadata": {},
   "source": [
    "#### For the top sector count-wise,  company received the highest investment"
   ]
  },
  {
   "cell_type": "code",
   "execution_count": 47,
   "metadata": {
    "ExecuteTime": {
     "end_time": "2021-04-28T09:30:10.410006Z",
     "start_time": "2021-04-28T09:30:10.360040Z"
    },
    "scrolled": true
   },
   "outputs": [
    {
     "data": {
      "text/html": [
       "<div>\n",
       "<style scoped>\n",
       "    .dataframe tbody tr th:only-of-type {\n",
       "        vertical-align: middle;\n",
       "    }\n",
       "\n",
       "    .dataframe tbody tr th {\n",
       "        vertical-align: top;\n",
       "    }\n",
       "\n",
       "    .dataframe thead th {\n",
       "        text-align: right;\n",
       "    }\n",
       "</style>\n",
       "<table border=\"1\" class=\"dataframe\">\n",
       "  <thead>\n",
       "    <tr style=\"text-align: right;\">\n",
       "      <th></th>\n",
       "      <th>permalink</th>\n",
       "      <th>name</th>\n",
       "      <th>homepage_url</th>\n",
       "      <th>category_list</th>\n",
       "      <th>status</th>\n",
       "      <th>country_code</th>\n",
       "      <th>state_code</th>\n",
       "      <th>region</th>\n",
       "      <th>city</th>\n",
       "      <th>founded_at</th>\n",
       "      <th>funding_round_permalink</th>\n",
       "      <th>funding_round_type</th>\n",
       "      <th>funding_round_code</th>\n",
       "      <th>funded_at</th>\n",
       "      <th>raised_amount_usd</th>\n",
       "      <th>primary_sector</th>\n",
       "      <th>main_sector</th>\n",
       "    </tr>\n",
       "  </thead>\n",
       "  <tbody>\n",
       "    <tr>\n",
       "      <th>23305</th>\n",
       "      <td>/organization/convio</td>\n",
       "      <td>Convio</td>\n",
       "      <td>http://www.convio.com</td>\n",
       "      <td>Software</td>\n",
       "      <td>acquired</td>\n",
       "      <td>USA</td>\n",
       "      <td>TX</td>\n",
       "      <td>Austin</td>\n",
       "      <td>Austin</td>\n",
       "      <td>01-01-1999</td>\n",
       "      <td>/funding-round/86649425a2457a013de7dafbd65225c2</td>\n",
       "      <td>venture</td>\n",
       "      <td>D</td>\n",
       "      <td>07-07-2004</td>\n",
       "      <td>15000000.0</td>\n",
       "      <td>Software</td>\n",
       "      <td>Others</td>\n",
       "    </tr>\n",
       "    <tr>\n",
       "      <th>9213</th>\n",
       "      <td>/organization/avamar-technologies</td>\n",
       "      <td>Avamar Technologies</td>\n",
       "      <td>NaN</td>\n",
       "      <td>Software</td>\n",
       "      <td>acquired</td>\n",
       "      <td>USA</td>\n",
       "      <td>CA</td>\n",
       "      <td>Anaheim</td>\n",
       "      <td>Irvine</td>\n",
       "      <td>01-01-1999</td>\n",
       "      <td>/funding-round/077e03edbda52d87ec2bf218b47a1c48</td>\n",
       "      <td>venture</td>\n",
       "      <td>NaN</td>\n",
       "      <td>22-09-2004</td>\n",
       "      <td>15000000.0</td>\n",
       "      <td>Software</td>\n",
       "      <td>Others</td>\n",
       "    </tr>\n",
       "    <tr>\n",
       "      <th>32650</th>\n",
       "      <td>/organization/equallogic</td>\n",
       "      <td>Equallogic</td>\n",
       "      <td>http://www.equallogic.com</td>\n",
       "      <td>Enterprise Software</td>\n",
       "      <td>acquired</td>\n",
       "      <td>USA</td>\n",
       "      <td>NH</td>\n",
       "      <td>Manchester, New Hampshire</td>\n",
       "      <td>Nashua</td>\n",
       "      <td>01-01-1984</td>\n",
       "      <td>/funding-round/c725fa458b51eaa381fcf05870260abb</td>\n",
       "      <td>venture</td>\n",
       "      <td>B</td>\n",
       "      <td>26-03-2003</td>\n",
       "      <td>15000000.0</td>\n",
       "      <td>Enterprise Software</td>\n",
       "      <td>Others</td>\n",
       "    </tr>\n",
       "    <tr>\n",
       "      <th>86351</th>\n",
       "      <td>/organization/schoology</td>\n",
       "      <td>Schoology</td>\n",
       "      <td>http://www.schoology.com</td>\n",
       "      <td>Education|Software|Systems</td>\n",
       "      <td>operating</td>\n",
       "      <td>USA</td>\n",
       "      <td>NY</td>\n",
       "      <td>New York City</td>\n",
       "      <td>New York</td>\n",
       "      <td>01-05-2009</td>\n",
       "      <td>/funding-round/67303adefefefe5e5e572ec1ed199d67</td>\n",
       "      <td>venture</td>\n",
       "      <td>C</td>\n",
       "      <td>24-06-2014</td>\n",
       "      <td>15000000.0</td>\n",
       "      <td>Education</td>\n",
       "      <td>Others</td>\n",
       "    </tr>\n",
       "    <tr>\n",
       "      <th>85994</th>\n",
       "      <td>/organization/sauce-labs</td>\n",
       "      <td>Sauce Labs</td>\n",
       "      <td>http://saucelabs.com</td>\n",
       "      <td>Enterprise Software|SaaS|Software|Web Development</td>\n",
       "      <td>operating</td>\n",
       "      <td>USA</td>\n",
       "      <td>CA</td>\n",
       "      <td>SF Bay Area</td>\n",
       "      <td>San Francisco</td>\n",
       "      <td>01-08-2008</td>\n",
       "      <td>/funding-round/36b89f086b623a00d91399680233db92</td>\n",
       "      <td>venture</td>\n",
       "      <td>D</td>\n",
       "      <td>05-02-2015</td>\n",
       "      <td>15000000.0</td>\n",
       "      <td>Enterprise Software</td>\n",
       "      <td>Others</td>\n",
       "    </tr>\n",
       "  </tbody>\n",
       "</table>\n",
       "</div>"
      ],
      "text/plain": [
       "                               permalink                 name  \\\n",
       "23305               /organization/convio               Convio   \n",
       "9213   /organization/avamar-technologies  Avamar Technologies   \n",
       "32650           /organization/equallogic           Equallogic   \n",
       "86351            /organization/schoology            Schoology   \n",
       "85994           /organization/sauce-labs           Sauce Labs   \n",
       "\n",
       "                    homepage_url  \\\n",
       "23305      http://www.convio.com   \n",
       "9213                         NaN   \n",
       "32650  http://www.equallogic.com   \n",
       "86351   http://www.schoology.com   \n",
       "85994       http://saucelabs.com   \n",
       "\n",
       "                                           category_list     status  \\\n",
       "23305                                           Software   acquired   \n",
       "9213                                            Software   acquired   \n",
       "32650                                Enterprise Software   acquired   \n",
       "86351                         Education|Software|Systems  operating   \n",
       "85994  Enterprise Software|SaaS|Software|Web Development  operating   \n",
       "\n",
       "      country_code state_code                     region           city  \\\n",
       "23305          USA         TX                     Austin         Austin   \n",
       "9213           USA         CA                    Anaheim         Irvine   \n",
       "32650          USA         NH  Manchester, New Hampshire         Nashua   \n",
       "86351          USA         NY              New York City       New York   \n",
       "85994          USA         CA                SF Bay Area  San Francisco   \n",
       "\n",
       "       founded_at                          funding_round_permalink  \\\n",
       "23305  01-01-1999  /funding-round/86649425a2457a013de7dafbd65225c2   \n",
       "9213   01-01-1999  /funding-round/077e03edbda52d87ec2bf218b47a1c48   \n",
       "32650  01-01-1984  /funding-round/c725fa458b51eaa381fcf05870260abb   \n",
       "86351  01-05-2009  /funding-round/67303adefefefe5e5e572ec1ed199d67   \n",
       "85994  01-08-2008  /funding-round/36b89f086b623a00d91399680233db92   \n",
       "\n",
       "      funding_round_type funding_round_code   funded_at  raised_amount_usd  \\\n",
       "23305            venture                  D  07-07-2004         15000000.0   \n",
       "9213             venture                NaN  22-09-2004         15000000.0   \n",
       "32650            venture                  B  26-03-2003         15000000.0   \n",
       "86351            venture                  C  24-06-2014         15000000.0   \n",
       "85994            venture                  D  05-02-2015         15000000.0   \n",
       "\n",
       "            primary_sector main_sector  \n",
       "23305             Software      Others  \n",
       "9213              Software      Others  \n",
       "32650  Enterprise Software      Others  \n",
       "86351            Education      Others  \n",
       "85994  Enterprise Software      Others  "
      ]
     },
     "execution_count": 47,
     "metadata": {},
     "output_type": "execute_result"
    }
   ],
   "source": [
    "D1[D1.main_sector == 'Others'].sort_values(by='raised_amount_usd',\n",
    "                                           ascending=False).head()"
   ]
  },
  {
   "cell_type": "markdown",
   "metadata": {},
   "source": [
    "#### For the second-best sector count-wise   company received the highest investment"
   ]
  },
  {
   "cell_type": "code",
   "execution_count": 48,
   "metadata": {
    "ExecuteTime": {
     "end_time": "2021-04-28T09:30:10.460038Z",
     "start_time": "2021-04-28T09:30:10.410006Z"
    },
    "scrolled": true
   },
   "outputs": [
    {
     "data": {
      "text/html": [
       "<div>\n",
       "<style scoped>\n",
       "    .dataframe tbody tr th:only-of-type {\n",
       "        vertical-align: middle;\n",
       "    }\n",
       "\n",
       "    .dataframe tbody tr th {\n",
       "        vertical-align: top;\n",
       "    }\n",
       "\n",
       "    .dataframe thead th {\n",
       "        text-align: right;\n",
       "    }\n",
       "</style>\n",
       "<table border=\"1\" class=\"dataframe\">\n",
       "  <thead>\n",
       "    <tr style=\"text-align: right;\">\n",
       "      <th></th>\n",
       "      <th>permalink</th>\n",
       "      <th>name</th>\n",
       "      <th>homepage_url</th>\n",
       "      <th>category_list</th>\n",
       "      <th>status</th>\n",
       "      <th>country_code</th>\n",
       "      <th>state_code</th>\n",
       "      <th>region</th>\n",
       "      <th>city</th>\n",
       "      <th>founded_at</th>\n",
       "      <th>funding_round_permalink</th>\n",
       "      <th>funding_round_type</th>\n",
       "      <th>funding_round_code</th>\n",
       "      <th>funded_at</th>\n",
       "      <th>raised_amount_usd</th>\n",
       "      <th>primary_sector</th>\n",
       "      <th>main_sector</th>\n",
       "    </tr>\n",
       "  </thead>\n",
       "  <tbody>\n",
       "    <tr>\n",
       "      <th>77984</th>\n",
       "      <td>/organization/prestwick-pharmaceuticals-inc</td>\n",
       "      <td>Prestwick Pharmaceuticals, Inc.</td>\n",
       "      <td>NaN</td>\n",
       "      <td>Bio-Pharm|Biotechnology|Pharmaceuticals</td>\n",
       "      <td>operating</td>\n",
       "      <td>USA</td>\n",
       "      <td>DC</td>\n",
       "      <td>Washington, D.C.</td>\n",
       "      <td>Washington</td>\n",
       "      <td>NaN</td>\n",
       "      <td>/funding-round/87d080c3134141ce6dc7beb49c9a6550</td>\n",
       "      <td>venture</td>\n",
       "      <td>A</td>\n",
       "      <td>19-06-2003</td>\n",
       "      <td>15000000.0</td>\n",
       "      <td>Bio-Pharm</td>\n",
       "      <td>Cleantech / Semiconductors</td>\n",
       "    </tr>\n",
       "    <tr>\n",
       "      <th>16949</th>\n",
       "      <td>/organization/cara-therapeutics</td>\n",
       "      <td>Cara Therapeutics</td>\n",
       "      <td>http://www.caratherapeutics.com</td>\n",
       "      <td>Biotechnology|Health Care</td>\n",
       "      <td>ipo</td>\n",
       "      <td>USA</td>\n",
       "      <td>CT</td>\n",
       "      <td>Hartford</td>\n",
       "      <td>Shelton</td>\n",
       "      <td>NaN</td>\n",
       "      <td>/funding-round/55507f796c1c2519f5c721d8657e7997</td>\n",
       "      <td>venture</td>\n",
       "      <td>D</td>\n",
       "      <td>21-07-2010</td>\n",
       "      <td>15000000.0</td>\n",
       "      <td>Biotechnology</td>\n",
       "      <td>Cleantech / Semiconductors</td>\n",
       "    </tr>\n",
       "    <tr>\n",
       "      <th>17062</th>\n",
       "      <td>/organization/cardiac-dimensions</td>\n",
       "      <td>Cardiac Dimensions</td>\n",
       "      <td>http://www.cardiacdimensions.com</td>\n",
       "      <td>Biotechnology|Health Care|Medical Devices</td>\n",
       "      <td>operating</td>\n",
       "      <td>USA</td>\n",
       "      <td>WA</td>\n",
       "      <td>Seattle</td>\n",
       "      <td>Kirkland</td>\n",
       "      <td>01-01-2001</td>\n",
       "      <td>/funding-round/09a7b10f9ff9cbcbffeedf36166d6be8</td>\n",
       "      <td>venture</td>\n",
       "      <td>NaN</td>\n",
       "      <td>17-03-2004</td>\n",
       "      <td>15000000.0</td>\n",
       "      <td>Biotechnology</td>\n",
       "      <td>Cleantech / Semiconductors</td>\n",
       "    </tr>\n",
       "    <tr>\n",
       "      <th>7216</th>\n",
       "      <td>/organization/aratana-therapeutics</td>\n",
       "      <td>Aratana Therapeutics</td>\n",
       "      <td>http://www.aratanatherapeutics.com</td>\n",
       "      <td>Biotechnology|Health Care</td>\n",
       "      <td>ipo</td>\n",
       "      <td>USA</td>\n",
       "      <td>KS</td>\n",
       "      <td>Kansas City</td>\n",
       "      <td>Kansas City</td>\n",
       "      <td>01-01-2010</td>\n",
       "      <td>/funding-round/2b606a5877b0042896e24ec978a38578</td>\n",
       "      <td>venture</td>\n",
       "      <td>B</td>\n",
       "      <td>07-12-2011</td>\n",
       "      <td>15000000.0</td>\n",
       "      <td>Biotechnology</td>\n",
       "      <td>Cleantech / Semiconductors</td>\n",
       "    </tr>\n",
       "    <tr>\n",
       "      <th>97991</th>\n",
       "      <td>/organization/taris-biomedical</td>\n",
       "      <td>TARIS Biomedical</td>\n",
       "      <td>http://www.tarisbiomedical.com</td>\n",
       "      <td>Biotechnology</td>\n",
       "      <td>operating</td>\n",
       "      <td>USA</td>\n",
       "      <td>MA</td>\n",
       "      <td>Boston</td>\n",
       "      <td>Lexington</td>\n",
       "      <td>01-01-2008</td>\n",
       "      <td>/funding-round/f047a23d49a911cf222185cc32d0fce8</td>\n",
       "      <td>venture</td>\n",
       "      <td>A</td>\n",
       "      <td>25-06-2009</td>\n",
       "      <td>15000000.0</td>\n",
       "      <td>Biotechnology</td>\n",
       "      <td>Cleantech / Semiconductors</td>\n",
       "    </tr>\n",
       "  </tbody>\n",
       "</table>\n",
       "</div>"
      ],
      "text/plain": [
       "                                         permalink  \\\n",
       "77984  /organization/prestwick-pharmaceuticals-inc   \n",
       "16949              /organization/cara-therapeutics   \n",
       "17062             /organization/cardiac-dimensions   \n",
       "7216            /organization/aratana-therapeutics   \n",
       "97991               /organization/taris-biomedical   \n",
       "\n",
       "                                  name                        homepage_url  \\\n",
       "77984  Prestwick Pharmaceuticals, Inc.                                 NaN   \n",
       "16949                Cara Therapeutics     http://www.caratherapeutics.com   \n",
       "17062               Cardiac Dimensions    http://www.cardiacdimensions.com   \n",
       "7216              Aratana Therapeutics  http://www.aratanatherapeutics.com   \n",
       "97991                 TARIS Biomedical      http://www.tarisbiomedical.com   \n",
       "\n",
       "                                   category_list     status country_code  \\\n",
       "77984    Bio-Pharm|Biotechnology|Pharmaceuticals  operating          USA   \n",
       "16949                  Biotechnology|Health Care        ipo          USA   \n",
       "17062  Biotechnology|Health Care|Medical Devices  operating          USA   \n",
       "7216                   Biotechnology|Health Care        ipo          USA   \n",
       "97991                              Biotechnology  operating          USA   \n",
       "\n",
       "      state_code            region         city  founded_at  \\\n",
       "77984         DC  Washington, D.C.   Washington         NaN   \n",
       "16949         CT          Hartford      Shelton         NaN   \n",
       "17062         WA           Seattle     Kirkland  01-01-2001   \n",
       "7216          KS       Kansas City  Kansas City  01-01-2010   \n",
       "97991         MA            Boston    Lexington  01-01-2008   \n",
       "\n",
       "                               funding_round_permalink funding_round_type  \\\n",
       "77984  /funding-round/87d080c3134141ce6dc7beb49c9a6550            venture   \n",
       "16949  /funding-round/55507f796c1c2519f5c721d8657e7997            venture   \n",
       "17062  /funding-round/09a7b10f9ff9cbcbffeedf36166d6be8            venture   \n",
       "7216   /funding-round/2b606a5877b0042896e24ec978a38578            venture   \n",
       "97991  /funding-round/f047a23d49a911cf222185cc32d0fce8            venture   \n",
       "\n",
       "      funding_round_code   funded_at  raised_amount_usd primary_sector  \\\n",
       "77984                  A  19-06-2003         15000000.0      Bio-Pharm   \n",
       "16949                  D  21-07-2010         15000000.0  Biotechnology   \n",
       "17062                NaN  17-03-2004         15000000.0  Biotechnology   \n",
       "7216                   B  07-12-2011         15000000.0  Biotechnology   \n",
       "97991                  A  25-06-2009         15000000.0  Biotechnology   \n",
       "\n",
       "                      main_sector  \n",
       "77984  Cleantech / Semiconductors  \n",
       "16949  Cleantech / Semiconductors  \n",
       "17062  Cleantech / Semiconductors  \n",
       "7216   Cleantech / Semiconductors  \n",
       "97991  Cleantech / Semiconductors  "
      ]
     },
     "execution_count": 48,
     "metadata": {},
     "output_type": "execute_result"
    }
   ],
   "source": [
    "D1[D1.main_sector == 'Cleantech / Semiconductors'].sort_values(\n",
    "    by='raised_amount_usd', ascending=False).head()"
   ]
  },
  {
   "cell_type": "markdown",
   "metadata": {},
   "source": [
    "## GBR"
   ]
  },
  {
   "cell_type": "code",
   "execution_count": 49,
   "metadata": {
    "ExecuteTime": {
     "end_time": "2021-04-28T09:30:10.510445Z",
     "start_time": "2021-04-28T09:30:10.460038Z"
    }
   },
   "outputs": [],
   "source": [
    "\n",
    "D2 = master_frame[(master_frame.raised_amount_usd >= LowCap) & \n",
    "                                (master_frame.raised_amount_usd <= HighCap)&\n",
    "                                (master_frame.funding_round_type == RoundType)&\n",
    "                                (master_frame.country_code == CountryCode[1])\n",
    "                                ]"
   ]
  },
  {
   "cell_type": "markdown",
   "metadata": {},
   "source": [
    "####  Total number of investments in GBR"
   ]
  },
  {
   "cell_type": "code",
   "execution_count": 50,
   "metadata": {
    "ExecuteTime": {
     "end_time": "2021-04-28T09:30:10.530040Z",
     "start_time": "2021-04-28T09:30:10.510445Z"
    },
    "scrolled": true
   },
   "outputs": [
    {
     "data": {
      "text/plain": [
       "GBR    621\n",
       "Name: country_code, dtype: int64"
      ]
     },
     "execution_count": 50,
     "metadata": {},
     "output_type": "execute_result"
    }
   ],
   "source": [
    "D2.country_code.value_counts()"
   ]
  },
  {
   "cell_type": "markdown",
   "metadata": {},
   "source": [
    "#### Total amount of investment (USD)"
   ]
  },
  {
   "cell_type": "code",
   "execution_count": 51,
   "metadata": {
    "ExecuteTime": {
     "end_time": "2021-04-28T09:30:10.550076Z",
     "start_time": "2021-04-28T09:30:10.530040Z"
    },
    "scrolled": true
   },
   "outputs": [
    {
     "data": {
      "text/plain": [
       "5379078691.0"
      ]
     },
     "execution_count": 51,
     "metadata": {},
     "output_type": "execute_result"
    }
   ],
   "source": [
    "D2.raised_amount_usd.sum()"
   ]
  },
  {
   "cell_type": "markdown",
   "metadata": {},
   "source": [
    "#### Number of investments in top 3 sector"
   ]
  },
  {
   "cell_type": "code",
   "execution_count": 52,
   "metadata": {
    "ExecuteTime": {
     "end_time": "2021-04-28T09:30:10.570276Z",
     "start_time": "2021-04-28T09:30:10.550076Z"
    },
    "scrolled": false
   },
   "outputs": [
    {
     "data": {
      "text/plain": [
       "Others                                     143\n",
       "Cleantech / Semiconductors                 127\n",
       "Social, Finance, Analytics, Advertising     98\n",
       "Name: main_sector, dtype: int64"
      ]
     },
     "execution_count": 52,
     "metadata": {},
     "output_type": "execute_result"
    }
   ],
   "source": [
    "D2.main_sector.value_counts()[0:3]"
   ]
  },
  {
   "cell_type": "markdown",
   "metadata": {},
   "source": [
    "So top 3 sectors in GBR are :\n",
    "\n",
    "    1. Others            \n",
    "    \n",
    "    2. Cleantech / Semiconductors\n",
    "    \n",
    "    3. Social, Finance, Analytics, Advertising"
   ]
  },
  {
   "cell_type": "markdown",
   "metadata": {},
   "source": [
    "#### For the top sector count-wise,  company received the highest investment"
   ]
  },
  {
   "cell_type": "code",
   "execution_count": 53,
   "metadata": {
    "ExecuteTime": {
     "end_time": "2021-04-28T09:30:10.610039Z",
     "start_time": "2021-04-28T09:30:10.570276Z"
    },
    "scrolled": true
   },
   "outputs": [
    {
     "data": {
      "text/html": [
       "<div>\n",
       "<style scoped>\n",
       "    .dataframe tbody tr th:only-of-type {\n",
       "        vertical-align: middle;\n",
       "    }\n",
       "\n",
       "    .dataframe tbody tr th {\n",
       "        vertical-align: top;\n",
       "    }\n",
       "\n",
       "    .dataframe thead th {\n",
       "        text-align: right;\n",
       "    }\n",
       "</style>\n",
       "<table border=\"1\" class=\"dataframe\">\n",
       "  <thead>\n",
       "    <tr style=\"text-align: right;\">\n",
       "      <th></th>\n",
       "      <th>permalink</th>\n",
       "      <th>name</th>\n",
       "      <th>homepage_url</th>\n",
       "      <th>category_list</th>\n",
       "      <th>status</th>\n",
       "      <th>country_code</th>\n",
       "      <th>state_code</th>\n",
       "      <th>region</th>\n",
       "      <th>city</th>\n",
       "      <th>founded_at</th>\n",
       "      <th>funding_round_permalink</th>\n",
       "      <th>funding_round_type</th>\n",
       "      <th>funding_round_code</th>\n",
       "      <th>funded_at</th>\n",
       "      <th>raised_amount_usd</th>\n",
       "      <th>primary_sector</th>\n",
       "      <th>main_sector</th>\n",
       "    </tr>\n",
       "  </thead>\n",
       "  <tbody>\n",
       "    <tr>\n",
       "      <th>102680</th>\n",
       "      <td>/organization/tribold</td>\n",
       "      <td>Tribold</td>\n",
       "      <td>http://www.tribold.com</td>\n",
       "      <td>Software</td>\n",
       "      <td>acquired</td>\n",
       "      <td>GBR</td>\n",
       "      <td>H9</td>\n",
       "      <td>London</td>\n",
       "      <td>London</td>\n",
       "      <td>01-01-2003</td>\n",
       "      <td>/funding-round/36c8164caf2a5283a766e2a85b9d663c</td>\n",
       "      <td>venture</td>\n",
       "      <td>B</td>\n",
       "      <td>22-03-2007</td>\n",
       "      <td>15000000.0</td>\n",
       "      <td>Software</td>\n",
       "      <td>Others</td>\n",
       "    </tr>\n",
       "    <tr>\n",
       "      <th>68634</th>\n",
       "      <td>/organization/notonthehighstreet</td>\n",
       "      <td>Notonthehighstreet</td>\n",
       "      <td>http://www.notonthehighstreet.com</td>\n",
       "      <td>E-Commerce</td>\n",
       "      <td>operating</td>\n",
       "      <td>GBR</td>\n",
       "      <td>L1</td>\n",
       "      <td>London</td>\n",
       "      <td>Richmond</td>\n",
       "      <td>04-04-2006</td>\n",
       "      <td>/funding-round/1699ed5949d4d06bce01be9da7d9863f</td>\n",
       "      <td>venture</td>\n",
       "      <td>D</td>\n",
       "      <td>21-05-2012</td>\n",
       "      <td>15000000.0</td>\n",
       "      <td>E-Commerce</td>\n",
       "      <td>Others</td>\n",
       "    </tr>\n",
       "    <tr>\n",
       "      <th>32364</th>\n",
       "      <td>/organization/environmentiq</td>\n",
       "      <td>EnvironmentIQ</td>\n",
       "      <td>NaN</td>\n",
       "      <td>Software</td>\n",
       "      <td>operating</td>\n",
       "      <td>GBR</td>\n",
       "      <td>C3</td>\n",
       "      <td>London</td>\n",
       "      <td>Cambridge</td>\n",
       "      <td>01-01-1988</td>\n",
       "      <td>/funding-round/75dfc6681d2f93780158aff5fd9efcde</td>\n",
       "      <td>venture</td>\n",
       "      <td>A</td>\n",
       "      <td>06-03-2006</td>\n",
       "      <td>15000000.0</td>\n",
       "      <td>Software</td>\n",
       "      <td>Others</td>\n",
       "    </tr>\n",
       "    <tr>\n",
       "      <th>49818</th>\n",
       "      <td>/organization/ip-access</td>\n",
       "      <td>ip.access</td>\n",
       "      <td>http://www.ipaccess.com</td>\n",
       "      <td>Software</td>\n",
       "      <td>operating</td>\n",
       "      <td>GBR</td>\n",
       "      <td>C6</td>\n",
       "      <td>Camborne</td>\n",
       "      <td>Camborne</td>\n",
       "      <td>01-01-2000</td>\n",
       "      <td>/funding-round/4321163564fddf7a26b7235d7c791941</td>\n",
       "      <td>venture</td>\n",
       "      <td>NaN</td>\n",
       "      <td>12-12-2011</td>\n",
       "      <td>15000000.0</td>\n",
       "      <td>Software</td>\n",
       "      <td>Others</td>\n",
       "    </tr>\n",
       "    <tr>\n",
       "      <th>9921</th>\n",
       "      <td>/organization/azure-solutions</td>\n",
       "      <td>Azure Solutions</td>\n",
       "      <td>http://www.azuresolutions.com</td>\n",
       "      <td>Software</td>\n",
       "      <td>acquired</td>\n",
       "      <td>GBR</td>\n",
       "      <td>H9</td>\n",
       "      <td>London</td>\n",
       "      <td>London</td>\n",
       "      <td>NaN</td>\n",
       "      <td>/funding-round/adb99f479490e33281ab358ba9da2b29</td>\n",
       "      <td>venture</td>\n",
       "      <td>NaN</td>\n",
       "      <td>16-06-2005</td>\n",
       "      <td>15000000.0</td>\n",
       "      <td>Software</td>\n",
       "      <td>Others</td>\n",
       "    </tr>\n",
       "  </tbody>\n",
       "</table>\n",
       "</div>"
      ],
      "text/plain": [
       "                               permalink                name  \\\n",
       "102680             /organization/tribold             Tribold   \n",
       "68634   /organization/notonthehighstreet  Notonthehighstreet   \n",
       "32364        /organization/environmentiq       EnvironmentIQ   \n",
       "49818            /organization/ip-access           ip.access   \n",
       "9921       /organization/azure-solutions     Azure Solutions   \n",
       "\n",
       "                             homepage_url category_list     status  \\\n",
       "102680             http://www.tribold.com      Software   acquired   \n",
       "68634   http://www.notonthehighstreet.com    E-Commerce  operating   \n",
       "32364                                 NaN      Software  operating   \n",
       "49818             http://www.ipaccess.com      Software  operating   \n",
       "9921        http://www.azuresolutions.com      Software   acquired   \n",
       "\n",
       "       country_code state_code    region       city  founded_at  \\\n",
       "102680          GBR         H9    London     London  01-01-2003   \n",
       "68634           GBR         L1    London   Richmond  04-04-2006   \n",
       "32364           GBR         C3    London  Cambridge  01-01-1988   \n",
       "49818           GBR         C6  Camborne   Camborne  01-01-2000   \n",
       "9921            GBR         H9    London     London         NaN   \n",
       "\n",
       "                                funding_round_permalink funding_round_type  \\\n",
       "102680  /funding-round/36c8164caf2a5283a766e2a85b9d663c            venture   \n",
       "68634   /funding-round/1699ed5949d4d06bce01be9da7d9863f            venture   \n",
       "32364   /funding-round/75dfc6681d2f93780158aff5fd9efcde            venture   \n",
       "49818   /funding-round/4321163564fddf7a26b7235d7c791941            venture   \n",
       "9921    /funding-round/adb99f479490e33281ab358ba9da2b29            venture   \n",
       "\n",
       "       funding_round_code   funded_at  raised_amount_usd primary_sector  \\\n",
       "102680                  B  22-03-2007         15000000.0       Software   \n",
       "68634                   D  21-05-2012         15000000.0     E-Commerce   \n",
       "32364                   A  06-03-2006         15000000.0       Software   \n",
       "49818                 NaN  12-12-2011         15000000.0       Software   \n",
       "9921                  NaN  16-06-2005         15000000.0       Software   \n",
       "\n",
       "       main_sector  \n",
       "102680      Others  \n",
       "68634       Others  \n",
       "32364       Others  \n",
       "49818       Others  \n",
       "9921        Others  "
      ]
     },
     "execution_count": 53,
     "metadata": {},
     "output_type": "execute_result"
    }
   ],
   "source": [
    "D2[D2.main_sector == 'Others'].sort_values(by='raised_amount_usd',\n",
    "                                           ascending=False).head()"
   ]
  },
  {
   "cell_type": "markdown",
   "metadata": {},
   "source": [
    "#### For the second-best sector count-wise   company received the highest investment"
   ]
  },
  {
   "cell_type": "code",
   "execution_count": 54,
   "metadata": {
    "ExecuteTime": {
     "end_time": "2021-04-28T09:30:10.650000Z",
     "start_time": "2021-04-28T09:30:10.610039Z"
    },
    "scrolled": true
   },
   "outputs": [
    {
     "data": {
      "text/html": [
       "<div>\n",
       "<style scoped>\n",
       "    .dataframe tbody tr th:only-of-type {\n",
       "        vertical-align: middle;\n",
       "    }\n",
       "\n",
       "    .dataframe tbody tr th {\n",
       "        vertical-align: top;\n",
       "    }\n",
       "\n",
       "    .dataframe thead th {\n",
       "        text-align: right;\n",
       "    }\n",
       "</style>\n",
       "<table border=\"1\" class=\"dataframe\">\n",
       "  <thead>\n",
       "    <tr style=\"text-align: right;\">\n",
       "      <th></th>\n",
       "      <th>permalink</th>\n",
       "      <th>name</th>\n",
       "      <th>homepage_url</th>\n",
       "      <th>category_list</th>\n",
       "      <th>status</th>\n",
       "      <th>country_code</th>\n",
       "      <th>state_code</th>\n",
       "      <th>region</th>\n",
       "      <th>city</th>\n",
       "      <th>founded_at</th>\n",
       "      <th>funding_round_permalink</th>\n",
       "      <th>funding_round_type</th>\n",
       "      <th>funding_round_code</th>\n",
       "      <th>funded_at</th>\n",
       "      <th>raised_amount_usd</th>\n",
       "      <th>primary_sector</th>\n",
       "      <th>main_sector</th>\n",
       "    </tr>\n",
       "  </thead>\n",
       "  <tbody>\n",
       "    <tr>\n",
       "      <th>5575</th>\n",
       "      <td>/organization/anadigm</td>\n",
       "      <td>Anadigm</td>\n",
       "      <td>http://www.anadigm.com/</td>\n",
       "      <td>Semiconductors|Technology</td>\n",
       "      <td>closed</td>\n",
       "      <td>GBR</td>\n",
       "      <td>Z7</td>\n",
       "      <td>GBR - Other</td>\n",
       "      <td>Crewe</td>\n",
       "      <td>NaN</td>\n",
       "      <td>/funding-round/d66a723ef94efb39e450f62b6df312c4</td>\n",
       "      <td>venture</td>\n",
       "      <td>C</td>\n",
       "      <td>02-10-2003</td>\n",
       "      <td>15000000.0</td>\n",
       "      <td>Semiconductors</td>\n",
       "      <td>Cleantech / Semiconductors</td>\n",
       "    </tr>\n",
       "    <tr>\n",
       "      <th>31105</th>\n",
       "      <td>/organization/elixent</td>\n",
       "      <td>Elixent</td>\n",
       "      <td>https://www.elixent.com</td>\n",
       "      <td>Semiconductors</td>\n",
       "      <td>operating</td>\n",
       "      <td>GBR</td>\n",
       "      <td>B7</td>\n",
       "      <td>Bristol</td>\n",
       "      <td>Bristol</td>\n",
       "      <td>01-01-2000</td>\n",
       "      <td>/funding-round/11039f250826f795bfb1939629708907</td>\n",
       "      <td>venture</td>\n",
       "      <td>C</td>\n",
       "      <td>06-04-2005</td>\n",
       "      <td>15000000.0</td>\n",
       "      <td>Semiconductors</td>\n",
       "      <td>Cleantech / Semiconductors</td>\n",
       "    </tr>\n",
       "    <tr>\n",
       "      <th>70785</th>\n",
       "      <td>/organization/onyvax</td>\n",
       "      <td>Onyvax</td>\n",
       "      <td>http://www.onyvax.com</td>\n",
       "      <td>Biotechnology</td>\n",
       "      <td>operating</td>\n",
       "      <td>GBR</td>\n",
       "      <td>M3</td>\n",
       "      <td>Bradford</td>\n",
       "      <td>Bradford</td>\n",
       "      <td>NaN</td>\n",
       "      <td>/funding-round/bdf9dcf603552c6bab9cb9812ec5c099</td>\n",
       "      <td>venture</td>\n",
       "      <td>C</td>\n",
       "      <td>08-05-2006</td>\n",
       "      <td>14906222.0</td>\n",
       "      <td>Biotechnology</td>\n",
       "      <td>Cleantech / Semiconductors</td>\n",
       "    </tr>\n",
       "    <tr>\n",
       "      <th>55029</th>\n",
       "      <td>/organization/lectus-therapeutics</td>\n",
       "      <td>Lectus Therapeutics</td>\n",
       "      <td>http://www.lectustherapeutics.com</td>\n",
       "      <td>Biotechnology</td>\n",
       "      <td>closed</td>\n",
       "      <td>GBR</td>\n",
       "      <td>C3</td>\n",
       "      <td>London</td>\n",
       "      <td>Cambridge</td>\n",
       "      <td>NaN</td>\n",
       "      <td>/funding-round/4a46b9c5c0307166509f215e7efa692c</td>\n",
       "      <td>venture</td>\n",
       "      <td>A</td>\n",
       "      <td>13-02-2006</td>\n",
       "      <td>14257949.0</td>\n",
       "      <td>Biotechnology</td>\n",
       "      <td>Cleantech / Semiconductors</td>\n",
       "    </tr>\n",
       "    <tr>\n",
       "      <th>112268</th>\n",
       "      <td>/organization/xmos</td>\n",
       "      <td>XMOS</td>\n",
       "      <td>http://www.xmos.com</td>\n",
       "      <td>Semiconductors</td>\n",
       "      <td>operating</td>\n",
       "      <td>GBR</td>\n",
       "      <td>B7</td>\n",
       "      <td>Bristol</td>\n",
       "      <td>Bristol</td>\n",
       "      <td>01-01-2005</td>\n",
       "      <td>/funding-round/41c43ec60b5f81aa53fd1c9104e5b3c4</td>\n",
       "      <td>venture</td>\n",
       "      <td>C</td>\n",
       "      <td>03-12-2013</td>\n",
       "      <td>14000000.0</td>\n",
       "      <td>Semiconductors</td>\n",
       "      <td>Cleantech / Semiconductors</td>\n",
       "    </tr>\n",
       "  </tbody>\n",
       "</table>\n",
       "</div>"
      ],
      "text/plain": [
       "                                permalink                 name  \\\n",
       "5575                /organization/anadigm              Anadigm   \n",
       "31105               /organization/elixent              Elixent   \n",
       "70785                /organization/onyvax               Onyvax   \n",
       "55029   /organization/lectus-therapeutics  Lectus Therapeutics   \n",
       "112268                 /organization/xmos                 XMOS   \n",
       "\n",
       "                             homepage_url              category_list  \\\n",
       "5575              http://www.anadigm.com/  Semiconductors|Technology   \n",
       "31105             https://www.elixent.com             Semiconductors   \n",
       "70785               http://www.onyvax.com              Biotechnology   \n",
       "55029   http://www.lectustherapeutics.com              Biotechnology   \n",
       "112268                http://www.xmos.com             Semiconductors   \n",
       "\n",
       "           status country_code state_code       region       city  founded_at  \\\n",
       "5575       closed          GBR         Z7  GBR - Other      Crewe         NaN   \n",
       "31105   operating          GBR         B7      Bristol    Bristol  01-01-2000   \n",
       "70785   operating          GBR         M3     Bradford   Bradford         NaN   \n",
       "55029      closed          GBR         C3       London  Cambridge         NaN   \n",
       "112268  operating          GBR         B7      Bristol    Bristol  01-01-2005   \n",
       "\n",
       "                                funding_round_permalink funding_round_type  \\\n",
       "5575    /funding-round/d66a723ef94efb39e450f62b6df312c4            venture   \n",
       "31105   /funding-round/11039f250826f795bfb1939629708907            venture   \n",
       "70785   /funding-round/bdf9dcf603552c6bab9cb9812ec5c099            venture   \n",
       "55029   /funding-round/4a46b9c5c0307166509f215e7efa692c            venture   \n",
       "112268  /funding-round/41c43ec60b5f81aa53fd1c9104e5b3c4            venture   \n",
       "\n",
       "       funding_round_code   funded_at  raised_amount_usd  primary_sector  \\\n",
       "5575                    C  02-10-2003         15000000.0  Semiconductors   \n",
       "31105                   C  06-04-2005         15000000.0  Semiconductors   \n",
       "70785                   C  08-05-2006         14906222.0   Biotechnology   \n",
       "55029                   A  13-02-2006         14257949.0   Biotechnology   \n",
       "112268                  C  03-12-2013         14000000.0  Semiconductors   \n",
       "\n",
       "                       main_sector  \n",
       "5575    Cleantech / Semiconductors  \n",
       "31105   Cleantech / Semiconductors  \n",
       "70785   Cleantech / Semiconductors  \n",
       "55029   Cleantech / Semiconductors  \n",
       "112268  Cleantech / Semiconductors  "
      ]
     },
     "execution_count": 54,
     "metadata": {},
     "output_type": "execute_result"
    }
   ],
   "source": [
    "D2[D2.main_sector == 'Cleantech / Semiconductors'].sort_values(\n",
    "    by='raised_amount_usd', ascending=False).head()"
   ]
  },
  {
   "cell_type": "markdown",
   "metadata": {},
   "source": [
    "## IND"
   ]
  },
  {
   "cell_type": "code",
   "execution_count": 55,
   "metadata": {
    "ExecuteTime": {
     "end_time": "2021-04-28T09:30:10.690402Z",
     "start_time": "2021-04-28T09:30:10.650000Z"
    }
   },
   "outputs": [],
   "source": [
    "\n",
    "D3 = master_frame[(master_frame.raised_amount_usd >= LowCap) & \n",
    "                                (master_frame.raised_amount_usd <= HighCap)&\n",
    "                                (master_frame.funding_round_type == RoundType)&\n",
    "                                (master_frame.country_code == CountryCode[2])\n",
    "                                ]"
   ]
  },
  {
   "cell_type": "markdown",
   "metadata": {},
   "source": [
    "####  Total number of investments in IND"
   ]
  },
  {
   "cell_type": "code",
   "execution_count": 56,
   "metadata": {
    "ExecuteTime": {
     "end_time": "2021-04-28T09:30:10.710004Z",
     "start_time": "2021-04-28T09:30:10.690402Z"
    },
    "scrolled": true
   },
   "outputs": [
    {
     "data": {
      "text/plain": [
       "IND    328\n",
       "Name: country_code, dtype: int64"
      ]
     },
     "execution_count": 56,
     "metadata": {},
     "output_type": "execute_result"
    }
   ],
   "source": [
    "D3.country_code.value_counts()"
   ]
  },
  {
   "cell_type": "markdown",
   "metadata": {},
   "source": [
    "#### Total amount of investment (USD)"
   ]
  },
  {
   "cell_type": "code",
   "execution_count": 57,
   "metadata": {
    "ExecuteTime": {
     "end_time": "2021-04-28T09:30:10.729999Z",
     "start_time": "2021-04-28T09:30:10.710004Z"
    },
    "scrolled": true
   },
   "outputs": [
    {
     "data": {
      "text/plain": [
       "2949543602.0"
      ]
     },
     "execution_count": 57,
     "metadata": {},
     "output_type": "execute_result"
    }
   ],
   "source": [
    "D3.raised_amount_usd.sum()"
   ]
  },
  {
   "cell_type": "markdown",
   "metadata": {},
   "source": [
    "#### Number of investments in top 3 sector"
   ]
  },
  {
   "cell_type": "code",
   "execution_count": 58,
   "metadata": {
    "ExecuteTime": {
     "end_time": "2021-04-28T09:30:10.750075Z",
     "start_time": "2021-04-28T09:30:10.729999Z"
    },
    "scrolled": true
   },
   "outputs": [
    {
     "data": {
      "text/plain": [
       "Others                        109\n",
       "News, Search and Messaging     52\n",
       "Entertainment                  33\n",
       "Name: main_sector, dtype: int64"
      ]
     },
     "execution_count": 58,
     "metadata": {},
     "output_type": "execute_result"
    }
   ],
   "source": [
    "D3.main_sector.value_counts()[0:3]"
   ]
  },
  {
   "cell_type": "markdown",
   "metadata": {},
   "source": [
    "So top 3 sectors in IND are :\n",
    "\n",
    "    1. Others            \n",
    "    \n",
    "    2. News, Search and Messaging\n",
    "    \n",
    "    3. Entertainment                  "
   ]
  },
  {
   "cell_type": "markdown",
   "metadata": {},
   "source": [
    "#### For the top sector count-wise,  company received the highest investment"
   ]
  },
  {
   "cell_type": "code",
   "execution_count": 59,
   "metadata": {
    "ExecuteTime": {
     "end_time": "2021-04-28T09:30:10.800210Z",
     "start_time": "2021-04-28T09:30:10.750075Z"
    },
    "scrolled": true
   },
   "outputs": [
    {
     "data": {
      "text/html": [
       "<div>\n",
       "<style scoped>\n",
       "    .dataframe tbody tr th:only-of-type {\n",
       "        vertical-align: middle;\n",
       "    }\n",
       "\n",
       "    .dataframe tbody tr th {\n",
       "        vertical-align: top;\n",
       "    }\n",
       "\n",
       "    .dataframe thead th {\n",
       "        text-align: right;\n",
       "    }\n",
       "</style>\n",
       "<table border=\"1\" class=\"dataframe\">\n",
       "  <thead>\n",
       "    <tr style=\"text-align: right;\">\n",
       "      <th></th>\n",
       "      <th>permalink</th>\n",
       "      <th>name</th>\n",
       "      <th>homepage_url</th>\n",
       "      <th>category_list</th>\n",
       "      <th>status</th>\n",
       "      <th>country_code</th>\n",
       "      <th>state_code</th>\n",
       "      <th>region</th>\n",
       "      <th>city</th>\n",
       "      <th>founded_at</th>\n",
       "      <th>funding_round_permalink</th>\n",
       "      <th>funding_round_type</th>\n",
       "      <th>funding_round_code</th>\n",
       "      <th>funded_at</th>\n",
       "      <th>raised_amount_usd</th>\n",
       "      <th>primary_sector</th>\n",
       "      <th>main_sector</th>\n",
       "    </tr>\n",
       "  </thead>\n",
       "  <tbody>\n",
       "    <tr>\n",
       "      <th>56018</th>\n",
       "      <td>/organization/limeroad</td>\n",
       "      <td>LimeRoad</td>\n",
       "      <td>http://www.limeroad.com</td>\n",
       "      <td>E-Commerce|Social Media</td>\n",
       "      <td>operating</td>\n",
       "      <td>IND</td>\n",
       "      <td>10</td>\n",
       "      <td>New Delhi</td>\n",
       "      <td>Gurgaon</td>\n",
       "      <td>01-01-2012</td>\n",
       "      <td>/funding-round/8fb89dd64b186869e4fc63d83366eb12</td>\n",
       "      <td>venture</td>\n",
       "      <td>B</td>\n",
       "      <td>05-05-2014</td>\n",
       "      <td>15000000.0</td>\n",
       "      <td>E-Commerce</td>\n",
       "      <td>Others</td>\n",
       "    </tr>\n",
       "    <tr>\n",
       "      <th>20273</th>\n",
       "      <td>/organization/classteacher-learning-systems</td>\n",
       "      <td>Classteacher Learning Systems</td>\n",
       "      <td>http://www.classteacher.com</td>\n",
       "      <td>EdTech|Education</td>\n",
       "      <td>operating</td>\n",
       "      <td>IND</td>\n",
       "      <td>10</td>\n",
       "      <td>New Delhi</td>\n",
       "      <td>Gurgaon</td>\n",
       "      <td>01-01-1999</td>\n",
       "      <td>/funding-round/8be54e916f26b7702504530e6719305f</td>\n",
       "      <td>venture</td>\n",
       "      <td>NaN</td>\n",
       "      <td>27-06-2011</td>\n",
       "      <td>15000000.0</td>\n",
       "      <td>EdTech</td>\n",
       "      <td>Others</td>\n",
       "    </tr>\n",
       "    <tr>\n",
       "      <th>108740</th>\n",
       "      <td>/organization/voylla-retail-pvt-ltd</td>\n",
       "      <td>Voylla Retail Pvt. Ltd.</td>\n",
       "      <td>http://www.voylla.com</td>\n",
       "      <td>E-Commerce</td>\n",
       "      <td>operating</td>\n",
       "      <td>IND</td>\n",
       "      <td>19</td>\n",
       "      <td>Bangalore</td>\n",
       "      <td>Bangalore</td>\n",
       "      <td>01-05-2012</td>\n",
       "      <td>/funding-round/e75b35919cefc102295d2be82651c6a2</td>\n",
       "      <td>venture</td>\n",
       "      <td>B</td>\n",
       "      <td>05-10-2015</td>\n",
       "      <td>15000000.0</td>\n",
       "      <td>E-Commerce</td>\n",
       "      <td>Others</td>\n",
       "    </tr>\n",
       "    <tr>\n",
       "      <th>98504</th>\n",
       "      <td>/organization/tejas-networks-india</td>\n",
       "      <td>Tejas Networks India</td>\n",
       "      <td>http://www.tejasnetworks.com</td>\n",
       "      <td>Web Hosting</td>\n",
       "      <td>operating</td>\n",
       "      <td>IND</td>\n",
       "      <td>19</td>\n",
       "      <td>Bangalore</td>\n",
       "      <td>Bangalore</td>\n",
       "      <td>01-01-2000</td>\n",
       "      <td>/funding-round/ca35a0fd045367f9b501a9a433e2c907</td>\n",
       "      <td>venture</td>\n",
       "      <td>C</td>\n",
       "      <td>06-01-2005</td>\n",
       "      <td>15000000.0</td>\n",
       "      <td>Web Hosting</td>\n",
       "      <td>Others</td>\n",
       "    </tr>\n",
       "    <tr>\n",
       "      <th>84698</th>\n",
       "      <td>/organization/roposo</td>\n",
       "      <td>Roposo</td>\n",
       "      <td>http://www.roposo.com/</td>\n",
       "      <td>E-Commerce|Fashion</td>\n",
       "      <td>operating</td>\n",
       "      <td>IND</td>\n",
       "      <td>10</td>\n",
       "      <td>New Delhi</td>\n",
       "      <td>Gurgaon</td>\n",
       "      <td>01-01-2012</td>\n",
       "      <td>/funding-round/0f647fc9ce894a49ec19697b6ab4deab</td>\n",
       "      <td>venture</td>\n",
       "      <td>B</td>\n",
       "      <td>17-08-2015</td>\n",
       "      <td>15000000.0</td>\n",
       "      <td>E-Commerce</td>\n",
       "      <td>Others</td>\n",
       "    </tr>\n",
       "  </tbody>\n",
       "</table>\n",
       "</div>"
      ],
      "text/plain": [
       "                                          permalink  \\\n",
       "56018                        /organization/limeroad   \n",
       "20273   /organization/classteacher-learning-systems   \n",
       "108740          /organization/voylla-retail-pvt-ltd   \n",
       "98504            /organization/tejas-networks-india   \n",
       "84698                          /organization/roposo   \n",
       "\n",
       "                                 name                  homepage_url  \\\n",
       "56018                        LimeRoad       http://www.limeroad.com   \n",
       "20273   Classteacher Learning Systems   http://www.classteacher.com   \n",
       "108740        Voylla Retail Pvt. Ltd.         http://www.voylla.com   \n",
       "98504            Tejas Networks India  http://www.tejasnetworks.com   \n",
       "84698                          Roposo        http://www.roposo.com/   \n",
       "\n",
       "                  category_list     status country_code state_code     region  \\\n",
       "56018   E-Commerce|Social Media  operating          IND         10  New Delhi   \n",
       "20273          EdTech|Education  operating          IND         10  New Delhi   \n",
       "108740               E-Commerce  operating          IND         19  Bangalore   \n",
       "98504               Web Hosting  operating          IND         19  Bangalore   \n",
       "84698        E-Commerce|Fashion  operating          IND         10  New Delhi   \n",
       "\n",
       "             city  founded_at  \\\n",
       "56018     Gurgaon  01-01-2012   \n",
       "20273     Gurgaon  01-01-1999   \n",
       "108740  Bangalore  01-05-2012   \n",
       "98504   Bangalore  01-01-2000   \n",
       "84698     Gurgaon  01-01-2012   \n",
       "\n",
       "                                funding_round_permalink funding_round_type  \\\n",
       "56018   /funding-round/8fb89dd64b186869e4fc63d83366eb12            venture   \n",
       "20273   /funding-round/8be54e916f26b7702504530e6719305f            venture   \n",
       "108740  /funding-round/e75b35919cefc102295d2be82651c6a2            venture   \n",
       "98504   /funding-round/ca35a0fd045367f9b501a9a433e2c907            venture   \n",
       "84698   /funding-round/0f647fc9ce894a49ec19697b6ab4deab            venture   \n",
       "\n",
       "       funding_round_code   funded_at  raised_amount_usd primary_sector  \\\n",
       "56018                   B  05-05-2014         15000000.0     E-Commerce   \n",
       "20273                 NaN  27-06-2011         15000000.0         EdTech   \n",
       "108740                  B  05-10-2015         15000000.0     E-Commerce   \n",
       "98504                   C  06-01-2005         15000000.0    Web Hosting   \n",
       "84698                   B  17-08-2015         15000000.0     E-Commerce   \n",
       "\n",
       "       main_sector  \n",
       "56018       Others  \n",
       "20273       Others  \n",
       "108740      Others  \n",
       "98504       Others  \n",
       "84698       Others  "
      ]
     },
     "execution_count": 59,
     "metadata": {},
     "output_type": "execute_result"
    }
   ],
   "source": [
    "D3[D3.main_sector == 'Others'].sort_values(by='raised_amount_usd',\n",
    "                                           ascending=False).head()"
   ]
  },
  {
   "cell_type": "markdown",
   "metadata": {},
   "source": [
    "#### For the second-best sector count-wise   company received the highest investment"
   ]
  },
  {
   "cell_type": "code",
   "execution_count": 60,
   "metadata": {
    "ExecuteTime": {
     "end_time": "2021-04-28T09:30:10.870000Z",
     "start_time": "2021-04-28T09:30:10.800210Z"
    },
    "scrolled": false
   },
   "outputs": [
    {
     "data": {
      "text/html": [
       "<div>\n",
       "<style scoped>\n",
       "    .dataframe tbody tr th:only-of-type {\n",
       "        vertical-align: middle;\n",
       "    }\n",
       "\n",
       "    .dataframe tbody tr th {\n",
       "        vertical-align: top;\n",
       "    }\n",
       "\n",
       "    .dataframe thead th {\n",
       "        text-align: right;\n",
       "    }\n",
       "</style>\n",
       "<table border=\"1\" class=\"dataframe\">\n",
       "  <thead>\n",
       "    <tr style=\"text-align: right;\">\n",
       "      <th></th>\n",
       "      <th>permalink</th>\n",
       "      <th>name</th>\n",
       "      <th>homepage_url</th>\n",
       "      <th>category_list</th>\n",
       "      <th>status</th>\n",
       "      <th>country_code</th>\n",
       "      <th>state_code</th>\n",
       "      <th>region</th>\n",
       "      <th>city</th>\n",
       "      <th>founded_at</th>\n",
       "      <th>funding_round_permalink</th>\n",
       "      <th>funding_round_type</th>\n",
       "      <th>funding_round_code</th>\n",
       "      <th>funded_at</th>\n",
       "      <th>raised_amount_usd</th>\n",
       "      <th>primary_sector</th>\n",
       "      <th>main_sector</th>\n",
       "    </tr>\n",
       "  </thead>\n",
       "  <tbody>\n",
       "    <tr>\n",
       "      <th>62904</th>\n",
       "      <td>/organization/mobile2win-india</td>\n",
       "      <td>Mobile2Win India</td>\n",
       "      <td>http://www.mobile2win.com</td>\n",
       "      <td>Mobile</td>\n",
       "      <td>operating</td>\n",
       "      <td>IND</td>\n",
       "      <td>16</td>\n",
       "      <td>Mumbai</td>\n",
       "      <td>Mumbai</td>\n",
       "      <td>NaN</td>\n",
       "      <td>/funding-round/50396c66ef239f1d5afea76ca98a76c4</td>\n",
       "      <td>venture</td>\n",
       "      <td>NaN</td>\n",
       "      <td>13-11-2006</td>\n",
       "      <td>15000000.0</td>\n",
       "      <td>Mobile</td>\n",
       "      <td>News, Search and Messaging</td>\n",
       "    </tr>\n",
       "    <tr>\n",
       "      <th>44217</th>\n",
       "      <td>/organization/hike</td>\n",
       "      <td>hike</td>\n",
       "      <td>http://get.hike.in</td>\n",
       "      <td>Messaging|Mobile</td>\n",
       "      <td>operating</td>\n",
       "      <td>IND</td>\n",
       "      <td>7</td>\n",
       "      <td>New Delhi</td>\n",
       "      <td>New Delhi</td>\n",
       "      <td>12-12-2012</td>\n",
       "      <td>/funding-round/8555dec0ba4fd695a52f9d42f7f1b3a6</td>\n",
       "      <td>venture</td>\n",
       "      <td>B</td>\n",
       "      <td>31-03-2014</td>\n",
       "      <td>14000000.0</td>\n",
       "      <td>Messaging</td>\n",
       "      <td>News, Search and Messaging</td>\n",
       "    </tr>\n",
       "    <tr>\n",
       "      <th>46680</th>\n",
       "      <td>/organization/imimobile</td>\n",
       "      <td>IMImobile</td>\n",
       "      <td>http://openhouse.imimobile.com</td>\n",
       "      <td>Mobile</td>\n",
       "      <td>ipo</td>\n",
       "      <td>IND</td>\n",
       "      <td>2</td>\n",
       "      <td>Hyderabad</td>\n",
       "      <td>Hyderabad</td>\n",
       "      <td>01-01-1999</td>\n",
       "      <td>/funding-round/143caeae3cfc9803f96104c95d0ca17b</td>\n",
       "      <td>venture</td>\n",
       "      <td>NaN</td>\n",
       "      <td>13-11-2009</td>\n",
       "      <td>13000000.0</td>\n",
       "      <td>Mobile</td>\n",
       "      <td>News, Search and Messaging</td>\n",
       "    </tr>\n",
       "    <tr>\n",
       "      <th>91308</th>\n",
       "      <td>/organization/sms-gupshup</td>\n",
       "      <td>SMS GupShup</td>\n",
       "      <td>http://www.smsgupshup.com</td>\n",
       "      <td>Mobile</td>\n",
       "      <td>operating</td>\n",
       "      <td>IND</td>\n",
       "      <td>16</td>\n",
       "      <td>Mumbai</td>\n",
       "      <td>Mumbai</td>\n",
       "      <td>01-06-1994</td>\n",
       "      <td>/funding-round/9522a14d83fcad63bb5e3ab067180a9c</td>\n",
       "      <td>venture</td>\n",
       "      <td>NaN</td>\n",
       "      <td>20-01-2010</td>\n",
       "      <td>12000000.0</td>\n",
       "      <td>Mobile</td>\n",
       "      <td>News, Search and Messaging</td>\n",
       "    </tr>\n",
       "    <tr>\n",
       "      <th>42474</th>\n",
       "      <td>/organization/gupshup-technology-india-pvt-ltd</td>\n",
       "      <td>GupShup</td>\n",
       "      <td>http://gupshup.me</td>\n",
       "      <td>Mobile</td>\n",
       "      <td>operating</td>\n",
       "      <td>IND</td>\n",
       "      <td>16</td>\n",
       "      <td>Mumbai</td>\n",
       "      <td>Mumbai</td>\n",
       "      <td>01-06-2004</td>\n",
       "      <td>/funding-round/a7ef11d7ccf8a17f6a3e632719eb2fd0</td>\n",
       "      <td>venture</td>\n",
       "      <td>D</td>\n",
       "      <td>02-03-2010</td>\n",
       "      <td>12000000.0</td>\n",
       "      <td>Mobile</td>\n",
       "      <td>News, Search and Messaging</td>\n",
       "    </tr>\n",
       "  </tbody>\n",
       "</table>\n",
       "</div>"
      ],
      "text/plain": [
       "                                            permalink              name  \\\n",
       "62904                  /organization/mobile2win-india  Mobile2Win India   \n",
       "44217                              /organization/hike              hike   \n",
       "46680                         /organization/imimobile         IMImobile   \n",
       "91308                       /organization/sms-gupshup       SMS GupShup   \n",
       "42474  /organization/gupshup-technology-india-pvt-ltd           GupShup   \n",
       "\n",
       "                         homepage_url     category_list     status  \\\n",
       "62904       http://www.mobile2win.com            Mobile  operating   \n",
       "44217              http://get.hike.in  Messaging|Mobile  operating   \n",
       "46680  http://openhouse.imimobile.com            Mobile        ipo   \n",
       "91308       http://www.smsgupshup.com            Mobile  operating   \n",
       "42474               http://gupshup.me            Mobile  operating   \n",
       "\n",
       "      country_code state_code     region       city  founded_at  \\\n",
       "62904          IND         16     Mumbai     Mumbai         NaN   \n",
       "44217          IND          7  New Delhi  New Delhi  12-12-2012   \n",
       "46680          IND          2  Hyderabad  Hyderabad  01-01-1999   \n",
       "91308          IND         16     Mumbai     Mumbai  01-06-1994   \n",
       "42474          IND         16     Mumbai     Mumbai  01-06-2004   \n",
       "\n",
       "                               funding_round_permalink funding_round_type  \\\n",
       "62904  /funding-round/50396c66ef239f1d5afea76ca98a76c4            venture   \n",
       "44217  /funding-round/8555dec0ba4fd695a52f9d42f7f1b3a6            venture   \n",
       "46680  /funding-round/143caeae3cfc9803f96104c95d0ca17b            venture   \n",
       "91308  /funding-round/9522a14d83fcad63bb5e3ab067180a9c            venture   \n",
       "42474  /funding-round/a7ef11d7ccf8a17f6a3e632719eb2fd0            venture   \n",
       "\n",
       "      funding_round_code   funded_at  raised_amount_usd primary_sector  \\\n",
       "62904                NaN  13-11-2006         15000000.0         Mobile   \n",
       "44217                  B  31-03-2014         14000000.0      Messaging   \n",
       "46680                NaN  13-11-2009         13000000.0         Mobile   \n",
       "91308                NaN  20-01-2010         12000000.0         Mobile   \n",
       "42474                  D  02-03-2010         12000000.0         Mobile   \n",
       "\n",
       "                      main_sector  \n",
       "62904  News, Search and Messaging  \n",
       "44217  News, Search and Messaging  \n",
       "46680  News, Search and Messaging  \n",
       "91308  News, Search and Messaging  \n",
       "42474  News, Search and Messaging  "
      ]
     },
     "execution_count": 60,
     "metadata": {},
     "output_type": "execute_result"
    }
   ],
   "source": [
    "D3[D3.main_sector == 'News, Search and Messaging'].sort_values(\n",
    "    by='raised_amount_usd', ascending=False).head()"
   ]
  },
  {
   "cell_type": "markdown",
   "metadata": {},
   "source": [
    "#### Plot showing the number of investments in the top 3 sectors of the top 3 countries"
   ]
  },
  {
   "cell_type": "code",
   "execution_count": 61,
   "metadata": {
    "ExecuteTime": {
     "end_time": "2021-04-28T09:30:11.829903Z",
     "start_time": "2021-04-28T09:30:10.870000Z"
    }
   },
   "outputs": [
    {
     "data": {
      "image/png": "[encoded data removed]",
      "text/plain": [
       "<Figure size 1440x576 with 3 Axes>"
      ]
     },
     "metadata": {
      "needs_background": "light"
     },
     "output_type": "display_data"
    }
   ],
   "source": [
    "plt.figure(figsize=(20, 8))\n",
    "plt.suptitle('Plot showing the number of investments in the top 3 sectors of the top 3 countries', fontsize = 16)\n",
    "\n",
    "plt.subplot(1,3,1)\n",
    "D1.main_sector.value_counts()[0:3].plot.bar()\n",
    "plt.xlabel('Sectors ->', fontsize = 14)\n",
    "plt.ylabel('No. of investments ->', )\n",
    "plt.xticks( fontsize = 14)\n",
    "plt.yticks( fontsize = 14)\n",
    "plt.title('USA', fontsize = 16)\n",
    "\n",
    "plt.subplot(1,3,2)\n",
    "D2.main_sector.value_counts()[0:3].plot.bar()\n",
    "plt.xticks( fontsize = 14)\n",
    "plt.yticks( fontsize = 14)\n",
    "plt.title('GBR', fontsize = 16)\n",
    "\n",
    "plt.subplot(1,3,3)\n",
    "D3.main_sector.value_counts()[0:3].plot.bar()\n",
    "plt.xticks( fontsize = 14)\n",
    "plt.yticks( fontsize = 14)\n",
    "plt.title('IND', fontsize = 16)\n",
    "\n",
    "plt.show()\n"
   ]
  }
 ],
 "metadata": {
  "kernelspec": {
   "display_name": "Python 3",
   "language": "python",
   "name": "python3"
  },
  "language_info": {
   "codemirror_mode": {
    "name": "ipython",
    "version": 3
   },
   "file_extension": ".py",
   "mimetype": "text/x-python",
   "name": "python",
   "nbconvert_exporter": "python",
   "pygments_lexer": "ipython3",
   "version": "3.8.3"
  }
 },
 "nbformat": 4,
 "nbformat_minor": 4
}
